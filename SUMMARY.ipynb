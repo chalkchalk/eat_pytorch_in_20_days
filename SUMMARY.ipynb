{
 "cells": [
  {
   "cell_type": "markdown",
   "id": "9b8cf5ac",
   "metadata": {},
   "source": [
    "# Summary\n",
    "\n",
    "* [前言](README.md)\n",
    "\n",
    "* [一、Pytorch的建模流程](一、Pytorch的建模流程.md)\n",
    "* [1-1,结构化数据建模流程范例](./1-1,结构化数据建模流程范例.md)\n",
    "* [1-2,图片数据建模流程范例](./1-2,图片数据建模流程范例.md)\n",
    "* [1-3,文本数据建模流程范例](./1-3,文本数据建模流程范例.md)\n",
    "* [1-4,时间序列数据建模流程范例](./1-4,时间序列数据建模流程范例.md)\n",
    "\n",
    "\n",
    "* [二、Pytorch的核心概念](二、Pytorch的核心概念.md)\n",
    "* [2-1,张量数据结构](./2-1,张量数据结构.md)\n",
    "* [2-2,自动微分机制](./2-2,自动微分机制.md)\n",
    "* [2-3,动态计算图](./2-3,动态计算图.md)\n",
    "\n",
    "\n",
    "* [三、Pytorch的层次结构](三、Pytorch的层次结构.md)\n",
    "* [3-1,低阶API示范](./3-1,低阶API示范.md)\n",
    "* [3-2,中阶API示范](./3-2,中阶API示范.md)\n",
    "* [3-3,高阶API示范](./3-3,高阶API示范.md)\n",
    "\n",
    "\n",
    "* [四、Pytorch的低阶API](四、Pytorch的低阶API.md)\n",
    "* [4-1,张量的结构操作](./4-1,张量的结构操作.md)\n",
    "* [4-2,张量的数学运算](./4-2,张量的数学运算.md)\n",
    "* [4-3,nn.functional和nn.Module](./4-3,nn.functional和nn.Module.md)\n",
    "\n",
    "\n",
    "* [五、Pytorch的中阶API](五、Pytorch的中阶API.md)\n",
    "* [5-1,Dataset和DataLoader](./5-1,Dataset和DataLoader.md)\n",
    "* [5-2,模型层](./5-2,模型层.md)\n",
    "* [5-3,损失函数](./5-3,损失函数.md)\n",
    "* [5-4,TensorBoard可视化](./5-4,TensorBoard可视化.md)\n",
    "\n",
    "\n",
    "* [六、TensorFlow的高阶API](六、TensorFlow的高阶API.md)\n",
    "* [6-1,构建模型的3种方法](./6-1,构建模型的3种方法.md)\n",
    "* [6-2,训练模型的3种方法](./6-2,训练模型的3种方法.md)\n",
    "* [6-3,使用GPU训练模型](./6-3,使用GPU训练模型.md)\n",
    "\n"
   ]
  }
 ],
 "metadata": {
  "jupytext": {
   "cell_metadata_filter": "-all",
   "formats": "ipynb,md",
   "main_language": "python"
  }
 },
 "nbformat": 4,
 "nbformat_minor": 5
}
