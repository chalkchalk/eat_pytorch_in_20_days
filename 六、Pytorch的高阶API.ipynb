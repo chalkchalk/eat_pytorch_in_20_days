{
 "cells": [
  {
   "cell_type": "markdown",
   "id": "69e69dd9",
   "metadata": {},
   "source": [
    "# 六、Pytorch的高阶API\n",
    "\n",
    "Pytorch没有官方的高阶API。一般通过nn.Module来构建模型并编写自定义训练循环。\n",
    "\n",
    "为了更加方便地训练模型，作者编写了仿keras的Pytorch模型接口：torchkeras， 作为Pytorch的高阶API。\n",
    "\n",
    "本章我们主要详细介绍Pytorch的高阶API如下相关的内容。\n",
    "\n",
    "* 构建模型的3种方法(继承nn.Module基类，使用nn.Sequential，辅助应用模型容器)\n",
    "\n",
    "* 训练模型的3种方法(脚本风格，函数风格，torchkeras.Model类风格)\n",
    "\n",
    "* 使用GPU训练模型(单GPU训练，多GPU训练)"
   ]
  },
  {
   "cell_type": "markdown",
   "id": "c6f68d76",
   "metadata": {},
   "source": [
    "**如果本书对你有所帮助，想鼓励一下作者，记得给本项目加一颗星星star⭐️，并分享给你的朋友们喔😊!** \n",
    "\n",
    "如果对本书内容理解上有需要进一步和作者交流的地方，欢迎在公众号\"算法美食屋\"下留言。作者时间和精力有限，会酌情予以回复。\n",
    "\n",
    "也可以在公众号后台回复关键字：**加群**，加入读者交流群和大家讨论。\n",
    "\n",
    "![算法美食屋logo.png](./data/算法美食屋二维码.jpg)"
   ]
  }
 ],
 "metadata": {
  "jupytext": {
   "cell_metadata_filter": "-all",
   "formats": "ipynb,md",
   "main_language": "python"
  },
  "kernelspec": {
   "display_name": "Python 3",
   "language": "python",
   "name": "python3"
  },
  "language_info": {
   "codemirror_mode": {
    "name": "ipython",
    "version": 3
   },
   "file_extension": ".py",
   "mimetype": "text/x-python",
   "name": "python",
   "nbconvert_exporter": "python",
   "pygments_lexer": "ipython3",
   "version": "3.6.9"
  }
 },
 "nbformat": 4,
 "nbformat_minor": 5
}
