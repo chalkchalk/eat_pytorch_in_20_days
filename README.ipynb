{
 "cells": [
  {
   "cell_type": "markdown",
   "id": "6a889528",
   "metadata": {},
   "source": [
    "# How to eat Pytorch in 20 days ?🔥🔥"
   ]
  },
  {
   "cell_type": "markdown",
   "id": "612a10d5",
   "metadata": {},
   "source": [
    "**《10天吃掉那只pyspark》**\n",
    "* 🚀 github项目地址: https://github.com/lyhue1991/eat_pyspark_in_10_days\n",
    "* 🐳 和鲸专栏地址: https://www.kesci.com/home/column/5fe6aa955e24ed00302304e0 【代码可直接fork后云端运行，无需配置环境】\n",
    "\n",
    "\n",
    "**《20天吃掉那只Pytorch》**\n",
    "* 🚀 github项目地址: https://github.com/lyhue1991/eat_pytorch_in_20_days\n",
    "* 🐳 和鲸专栏地址: https://www.kesci.com/home/column/5f2ac5d8af3980002cb1bc08 【代码可直接fork后云端运行，无需配置环境】\n",
    "\n",
    "\n",
    "**《30天吃掉那只TensorFlow2》**\n",
    "* 🚀 github项目地址: https://github.com/lyhue1991/eat_tensorflow2_in_30_days\n",
    "* 🐳 和鲸专栏地址: https://www.kesci.com/home/column/5d8ef3c3037db3002d3aa3a0 【代码可直接fork后云端运行，无需配置环境】\n",
    "\n",
    "**极速通道** \n",
    "*  🚀 公众号 “**算法美食屋**” 后台回复暗号：\"**吃货来了**\"\n",
    "*  😋 获取以上3套教程的jupyter notebook 源码文件以及全部数据集的百度云盘下载链接。\n",
    "*  https://mp.weixin.qq.com/s/ymLtH5BqlWAkpOmCLQOYxw\n",
    "\n",
    "![image.png](./data/算法美食屋二维码.jpg)\n",
    "\n",
    "### 一， Pytorch🔥  or TensorFlow2 🍎 \n",
    "\n",
    "先说结论:\n",
    "\n",
    "**如果是工程师，应该优先选TensorFlow2.**\n",
    "\n",
    "**如果是学生或者研究人员，应该优先选择Pytorch.**\n",
    "\n",
    "**如果时间足够，最好TensorFlow2和Pytorch都要学习掌握。**"
   ]
  },
  {
   "cell_type": "markdown",
   "id": "5054819f",
   "metadata": {},
   "source": [
    "理由如下：\n",
    "\n",
    "* 1，**在工业界最重要的是模型落地，目前国内的大部分互联网企业只支持TensorFlow模型的在线部署，不支持Pytorch。** 并且工业界更加注重的是模型的高可用性，许多时候使用的都是成熟的模型架构，调试需求并不大。"
   ]
  },
  {
   "cell_type": "markdown",
   "id": "ff2c4f3b",
   "metadata": {},
   "source": [
    "* 2，**研究人员最重要的是快速迭代发表文章，需要尝试一些较新的模型架构。而Pytorch在易用性上相比TensorFlow2有一些优势，更加方便调试。** 并且在2019年以来在学术界占领了大半壁江山，能够找到的相应最新研究成果更多。"
   ]
  },
  {
   "cell_type": "markdown",
   "id": "f213d2b2",
   "metadata": {},
   "source": [
    "* 3，TensorFlow2和Pytorch实际上整体风格已经非常相似了，学会了其中一个，学习另外一个将比较容易。两种框架都掌握的话，能够参考的开源模型案例更多，并且可以方便地在两种框架之间切换。"
   ]
  },
  {
   "cell_type": "markdown",
   "id": "6f2e2cd7",
   "metadata": {},
   "source": [
    "本书的TensorFlow镜像教程：\n",
    "\n",
    "#### 🍊《30天吃掉那只TensorFlow2》：https://github.com/lyhue1991/eat_tensorflow2_in_30_days "
   ]
  },
  {
   "cell_type": "code",
   "execution_count": null,
   "id": "c21245ba",
   "metadata": {},
   "outputs": [],
   "source": []
  },
  {
   "cell_type": "markdown",
   "id": "1b170e54",
   "metadata": {},
   "source": [
    "### 二，本书📖面向读者 👼"
   ]
  },
  {
   "cell_type": "markdown",
   "id": "1e0bdfb8",
   "metadata": {},
   "source": [
    "**本书假定读者有一定的机器学习和深度学习基础，使用过Keras或TensorFlow或Pytorch搭建训练过简单的模型。**\n",
    "\n",
    "**对于没有任何机器学习和深度学习基础的同学，建议在学习本书时同步参考阅读《Python深度学习》一书的第一部分\"深度学习基础\"内容。**\n",
    "\n",
    "《Python深度学习》这本书是Keras之父Francois Chollet所著，该书假定读者无任何机器学习知识，以Keras为工具，\n",
    "\n",
    "使用丰富的范例示范深度学习的最佳实践，该书通俗易懂，**全书没有一个数学公式，注重培养读者的深度学习直觉。**。\n",
    "\n",
    "《Python深度学习》一书的第一部分的4个章节内容如下，预计读者可以在20小时之内学完。\n",
    "\n",
    "* 1，什么是深度学习\n",
    "\n",
    "* 2，神经网络的数学基础\n",
    "\n",
    "* 3，神经网络入门\n",
    "\n",
    "* 4，机器学习基础\n"
   ]
  },
  {
   "cell_type": "code",
   "execution_count": null,
   "id": "9eaa6ea7",
   "metadata": {},
   "outputs": [],
   "source": []
  },
  {
   "cell_type": "markdown",
   "id": "9b90b23f",
   "metadata": {},
   "source": [
    "### 三，本书写作风格 🍉"
   ]
  },
  {
   "cell_type": "markdown",
   "id": "331618f6",
   "metadata": {},
   "source": [
    "**本书是一本对人类用户极其友善的Pytorch入门工具书，Don't let me think是本书的最高追求。**\n",
    "\n",
    "本书主要是在参考Pytorch官方文档和函数doc文档基础上整理写成的。\n",
    "\n",
    "尽管Pytorch官方文档已经相当简明清晰，但本书在篇章结构和范例选取上做了大量的优化，在用户友好度方面更胜一筹。\n",
    "\n",
    "本书按照内容难易程度、读者检索习惯和Pytorch自身的层次结构设计内容，循序渐进，层次清晰，方便按照功能查找相应范例。\n",
    "\n",
    "本书在范例设计上尽可能简约化和结构化，增强范例易读性和通用性，大部分代码片段在实践中可即取即用。\n",
    "\n",
    "**如果说通过学习Pytorch官方文档掌握Pytorch的难度大概是5，那么通过本书学习掌握Pytorch的难度应该大概是2.**\n",
    "\n",
    "仅以下图对比Pytorch官方文档与本书《20天吃掉那只Pytorch》的差异。\n"
   ]
  },
  {
   "cell_type": "markdown",
   "id": "d2acd534",
   "metadata": {},
   "source": [
    "![](./data/Pytorch官方vs吃掉Pytorch.png)"
   ]
  },
  {
   "cell_type": "code",
   "execution_count": null,
   "id": "a5c6ba1f",
   "metadata": {},
   "outputs": [],
   "source": []
  },
  {
   "cell_type": "markdown",
   "id": "ebf87cd2",
   "metadata": {},
   "source": [
    "### 四，本书学习方案 ⏰\n",
    "\n",
    "**1，学习计划**\n",
    "\n",
    "本书是作者利用工作之余大概3个月写成的，大部分读者应该在20天可以完全学会。\n",
    "\n",
    "预计每天花费的学习时间在30分钟到2个小时之间。\n",
    "\n",
    "当然，本书也非常适合作为Pytorch的工具手册在工程落地时作为范例库参考。\n",
    "\n",
    "**点击学习内容蓝色标题即可进入该章节。**"
   ]
  },
  {
   "cell_type": "markdown",
   "id": "54134f93",
   "metadata": {},
   "source": [
    "|日期 | 学习内容                                                       | 内容难度   | 预计学习时间 | 更新状态|\n",
    "|----:|:--------------------------------------------------------------|-----------:|----------:|-----:|\n",
    "|&nbsp;|[**一、Pytorch的建模流程**](./一、Pytorch的建模流程.md)    |⭐️   |   0hour   |✅    |\n",
    "|day1 | [1-1,结构化数据建模流程范例](./1-1,结构化数据建模流程范例.md)    | ⭐️⭐️⭐️ |   1hour    |✅    |\n",
    "|day2 | [1-2,图片数据建模流程范例](./1-2,图片数据建模流程范例.md)    | ⭐️⭐️⭐️⭐️  |   2hour    | ✅   |\n",
    "|day3 | [1-3,文本数据建模流程范例](./1-3,文本数据建模流程范例.md)   | ⭐️⭐️⭐️⭐️⭐️  |   2hour    | ✅  |\n",
    "|day4 | [1-4,时间序列数据建模流程范例](./1-4,时间序列数据建模流程范例.md)   | ⭐️⭐️⭐️⭐️⭐️  |   2hour    | ✅   |\n",
    "|&nbsp; |[**二、Pytorch的核心概念**](./二、Pytorch的核心概念.md)  | ⭐️  |  0hour |✅  |\n",
    "|day5 |  [2-1,张量数据结构](./2-1,张量数据结构.md)  | ⭐️⭐️⭐️⭐️   |   1hour    | ✅   |\n",
    "|day6 |  [2-2,自动微分机制](./2-2,自动微分机制.md)  | ⭐️⭐️⭐️   |   1hour    | ✅  |\n",
    "|day7 |  [2-3,动态计算图](./2-3,动态计算图.md)  | ⭐️⭐️⭐️⭐️⭐️   |   2hour    | ✅   |\n",
    "|&nbsp; |[**三、Pytorch的层次结构**](./三、Pytorch的层次结构.md) |   ⭐️  |  0hour   | ✅  |\n",
    "|day8 |  [3-1,低阶API示范](./3-1,低阶API示范.md)   | ⭐️⭐️⭐️⭐️   |   1hour    | ✅  |\n",
    "|day9 |  [3-2,中阶API示范](./3-2,中阶API示范.md)   | ⭐️⭐️⭐️   |  1hour    |✅  |\n",
    "|day10 | [3-3,高阶API示范](./3-3,高阶API示范.md)  | ⭐️⭐️⭐️  |   1hour    |✅ |\n",
    "|&nbsp; |[**四、Pytorch的低阶API**](./四、Pytorch的低阶API.md) |⭐️    | 0hour| ✅ |\n",
    "|day11|  [4-1,张量的结构操作](./4-1,张量的结构操作.md)  | ⭐️⭐️⭐️⭐️⭐️   |   2hour    | ✅ |\n",
    "|day12|  [4-2,张量的数学运算](./4-2,张量的数学运算.md)   | ⭐️⭐️⭐️⭐️   |   1hour    |✅ |\n",
    "|day13|  [4-3,nn.functional和nn.Module](./4-3,nn.functional和nn.Module.md)  | ⭐️⭐️⭐️⭐️   |   1hour    |✅ |\n",
    "|&nbsp; |[**五、Pytorch的中阶API**](./五、Pytorch的中阶API.md) |  ⭐️  | 0hour|✅ |\n",
    "|day14|  [5-1,Dataset和DataLoader](./5-1,Dataset和DataLoader.md)   | ⭐️⭐️⭐️⭐️⭐️   |   2hour    | ✅   |\n",
    "|day15|  [5-2,模型层](./5-3,模型层.md)  | ⭐️⭐️⭐️   |   1hour    |✅  |\n",
    "|day16|  [5-3,损失函数](./5-4,损失函数.md)    | ⭐️⭐️⭐️   |   1hour    |✅   |\n",
    "|day17|  [5-4,TensorBoard可视化](./5-4,TensorBoard可视化.md)    | ⭐️⭐️⭐️   |   1hour    | ✅   |\n",
    "|&nbsp; |[**六、Pytorch的高阶API**](./六、Pytorch的高阶API.md)|    ⭐️ | 0hour|✅  |\n",
    "|day18|  [6-1,构建模型的3种方法](./6-1,构建模型的3种方法.md)   | ⭐️⭐️⭐️⭐️    |   1hour    |✅   |\n",
    "|day19|  [6-2,训练模型的3种方法](./6-2,训练模型的3种方法.md)  | ⭐️⭐️⭐️⭐️   |   1hour    | ✅  |\n",
    "|day20|  [6-3,使用GPU训练模型](./6-3,使用GPU训练模型.md)    | ⭐️⭐️⭐️⭐️    |   1hour    | ✅  |\n",
    "\n"
   ]
  },
  {
   "cell_type": "code",
   "execution_count": null,
   "id": "0f3f6e4d",
   "metadata": {},
   "outputs": [],
   "source": []
  },
  {
   "cell_type": "markdown",
   "id": "72dbc0cf",
   "metadata": {},
   "source": [
    "**2，学习环境**\n",
    "\n",
    "本书全部源码在jupyter中编写测试通过，建议通过git克隆到本地，并在jupyter中交互式运行学习。\n",
    "\n",
    "为了直接能够在jupyter中打开markdown文件，建议安装jupytext，将markdown转换成ipynb文件。"
   ]
  },
  {
   "cell_type": "code",
   "execution_count": null,
   "id": "43776e87",
   "metadata": {},
   "outputs": [],
   "source": [
    "#克隆本书源码到本地,使用码云镜像仓库国内下载速度更快\n",
    "#!git clone https://gitee.com/Python_Ai_Road/eat_pytorch_in_20_days\n",
    "\n",
    "#建议在jupyter notebook 上安装jupytext，以便能够将本书各章节markdown文件视作ipynb文件运行\n",
    "#!pip install -i https://pypi.tuna.tsinghua.edu.cn/simple -U jupytext\n",
    "    \n",
    "#建议在jupyter notebook 上安装最新版本pytorch 测试本书中的代码\n",
    "#!pip install -i https://pypi.tuna.tsinghua.edu.cn/simple  -U torch torchvision torchtext torchkeras "
   ]
  },
  {
   "cell_type": "code",
   "execution_count": null,
   "id": "d55232d5",
   "metadata": {},
   "outputs": [],
   "source": [
    "import torch \n",
    "from torch import nn\n",
    "\n",
    "print(\"torch version:\", torch.__version__)\n",
    "\n",
    "a = torch.tensor([[2,1]])\n",
    "b = torch.tensor([[-1,2]])\n",
    "c = a@b.t()\n",
    "print(\"[[2,1]]@[[-1],[2]] =\", c.item())\n"
   ]
  },
  {
   "cell_type": "markdown",
   "id": "ee2986cd",
   "metadata": {},
   "source": [
    "```\n",
    "torch version: 1.5.0\n",
    "[[2,1]]@[[-1],[2]] = 0\n",
    "```"
   ]
  },
  {
   "cell_type": "code",
   "execution_count": null,
   "id": "89c5d4a2",
   "metadata": {},
   "outputs": [],
   "source": []
  },
  {
   "cell_type": "markdown",
   "id": "62bf3ac0",
   "metadata": {},
   "source": [
    "### 五，鼓励和联系作者 🎈🎈"
   ]
  },
  {
   "cell_type": "markdown",
   "id": "23c463bd",
   "metadata": {},
   "source": [
    "**如果本书对你有所帮助，想鼓励一下作者，记得给本项目加一颗星星star⭐️，并分享给你的朋友们喔😊!** \n",
    "\n",
    "如果对本书内容理解上有需要进一步和作者交流的地方，欢迎在公众号\"算法美食屋\"下留言。作者时间和精力有限，会酌情予以回复。\n",
    "\n",
    "也可以在公众号后台回复关键字：**加群**，加入读者交流群和大家讨论。\n",
    "\n",
    "![算法美食屋logo.png](./data/算法美食屋二维码.jpg)"
   ]
  },
  {
   "cell_type": "code",
   "execution_count": null,
   "id": "2cc107b7",
   "metadata": {},
   "outputs": [],
   "source": []
  }
 ],
 "metadata": {
  "jupytext": {
   "cell_metadata_filter": "-all",
   "formats": "ipynb,md",
   "main_language": "python"
  }
 },
 "nbformat": 4,
 "nbformat_minor": 5
}
