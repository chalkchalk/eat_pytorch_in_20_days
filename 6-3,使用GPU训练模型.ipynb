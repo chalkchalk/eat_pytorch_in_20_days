{
 "cells": [
  {
   "cell_type": "markdown",
   "id": "fe2f77c0",
   "metadata": {},
   "source": [
    "# 6-3,使用GPU训练模型"
   ]
  },
  {
   "cell_type": "markdown",
   "id": "991ae7d2",
   "metadata": {},
   "source": [
    "深度学习的训练过程常常非常耗时，一个模型训练几个小时是家常便饭，训练几天也是常有的事情，有时候甚至要训练几十天。\n",
    "\n",
    "训练过程的耗时主要来自于两个部分，一部分来自数据准备，另一部分来自参数迭代。\n",
    "\n",
    "当数据准备过程还是模型训练时间的主要瓶颈时，我们可以使用更多进程来准备数据。\n",
    "\n",
    "当参数迭代过程成为训练时间的主要瓶颈时，我们通常的方法是应用GPU来进行加速。"
   ]
  },
  {
   "cell_type": "markdown",
   "id": "41031310",
   "metadata": {},
   "source": [
    "Pytorch中使用GPU加速模型非常简单，只要将模型和数据移动到GPU上。核心代码只有以下几行。\n",
    "\n",
    "```python\n",
    "# 定义模型\n",
    "... \n",
    "\n",
    "device = torch.device(\"cuda:0\" if torch.cuda.is_available() else \"cpu\")\n",
    "model.to(device) # 移动模型到cuda\n",
    "\n",
    "# 训练模型\n",
    "...\n",
    "\n",
    "features = features.to(device) # 移动数据到cuda\n",
    "labels = labels.to(device) # 或者  labels = labels.cuda() if torch.cuda.is_available() else labels\n",
    "...\n",
    "```\n",
    "\n",
    "如果要使用多个GPU训练模型，也非常简单。只需要在将模型设置为数据并行风格模型。\n",
    "则模型移动到GPU上之后，会在每一个GPU上拷贝一个副本，并把数据平分到各个GPU上进行训练。核心代码如下。\n",
    "\n",
    "```python\n",
    "# 定义模型\n",
    "... \n",
    "\n",
    "if torch.cuda.device_count() > 1:\n",
    "    model = nn.DataParallel(model) # 包装为并行风格模型\n",
    "\n",
    "# 训练模型\n",
    "...\n",
    "features = features.to(device) # 移动数据到cuda\n",
    "labels = labels.to(device) # 或者 labels = labels.cuda() if torch.cuda.is_available() else labels\n",
    "...\n",
    "```"
   ]
  },
  {
   "cell_type": "markdown",
   "id": "c894d654",
   "metadata": {},
   "source": [
    "**以下是一些和GPU有关的基本操作汇总** "
   ]
  },
  {
   "cell_type": "markdown",
   "id": "5c6f3a65",
   "metadata": {},
   "source": [
    "在Colab笔记本中：修改->笔记本设置->硬件加速器 中选择 GPU\n",
    "\n",
    "注：以下代码只能在Colab 上才能正确执行。\n",
    "\n",
    "可点击如下链接，直接在colab中运行范例代码。\n",
    "\n",
    "《torch使用gpu训练模型》\n",
    "\n",
    "https://colab.research.google.com/drive/1FDmi44-U3TFRCt9MwGn4HIj2SaaWIjHu?usp=sharing"
   ]
  },
  {
   "cell_type": "code",
   "execution_count": 1,
   "id": "1413f688",
   "metadata": {},
   "outputs": [],
   "source": [
    "import torch \n",
    "from torch import nn "
   ]
  },
  {
   "cell_type": "code",
   "execution_count": 2,
   "id": "44b38c7b",
   "metadata": {},
   "outputs": [
    {
     "name": "stdout",
     "output_type": "stream",
     "text": [
      "if_cuda= False\n",
      "gpu_count= 0\n"
     ]
    }
   ],
   "source": [
    "# 1，查看gpu信息\n",
    "if_cuda = torch.cuda.is_available()\n",
    "print(\"if_cuda=\",if_cuda)\n",
    "\n",
    "gpu_count = torch.cuda.device_count()\n",
    "print(\"gpu_count=\",gpu_count)\n"
   ]
  },
  {
   "cell_type": "markdown",
   "id": "2ba12776",
   "metadata": {},
   "source": [
    "```\n",
    "if_cuda= True\n",
    "gpu_count= 1\n",
    "```"
   ]
  },
  {
   "cell_type": "code",
   "execution_count": 3,
   "id": "9512770a",
   "metadata": {},
   "outputs": [
    {
     "ename": "RuntimeError",
     "evalue": "Found no NVIDIA driver on your system. Please check that you have an NVIDIA GPU and installed a driver from http://www.nvidia.com/Download/index.aspx",
     "output_type": "error",
     "traceback": [
      "\u001b[0;31m---------------------------------------------------------------------------\u001b[0m",
      "\u001b[0;31mRuntimeError\u001b[0m                              Traceback (most recent call last)",
      "\u001b[0;32m<ipython-input-3-cb760e986663>\u001b[0m in \u001b[0;36m<module>\u001b[0;34m\u001b[0m\n\u001b[1;32m      1\u001b[0m \u001b[0;31m# 2，将张量在gpu和cpu间移动\u001b[0m\u001b[0;34m\u001b[0m\u001b[0;34m\u001b[0m\u001b[0;34m\u001b[0m\u001b[0m\n\u001b[1;32m      2\u001b[0m \u001b[0mtensor\u001b[0m \u001b[0;34m=\u001b[0m \u001b[0mtorch\u001b[0m\u001b[0;34m.\u001b[0m\u001b[0mrand\u001b[0m\u001b[0;34m(\u001b[0m\u001b[0;34m(\u001b[0m\u001b[0;36m100\u001b[0m\u001b[0;34m,\u001b[0m\u001b[0;36m100\u001b[0m\u001b[0;34m)\u001b[0m\u001b[0;34m)\u001b[0m\u001b[0;34m\u001b[0m\u001b[0;34m\u001b[0m\u001b[0m\n\u001b[0;32m----> 3\u001b[0;31m \u001b[0mtensor_gpu\u001b[0m \u001b[0;34m=\u001b[0m \u001b[0mtensor\u001b[0m\u001b[0;34m.\u001b[0m\u001b[0mto\u001b[0m\u001b[0;34m(\u001b[0m\u001b[0;34m\"cuda:0\"\u001b[0m\u001b[0;34m)\u001b[0m \u001b[0;31m# 或者 tensor_gpu = tensor.cuda()\u001b[0m\u001b[0;34m\u001b[0m\u001b[0;34m\u001b[0m\u001b[0m\n\u001b[0m\u001b[1;32m      4\u001b[0m \u001b[0mprint\u001b[0m\u001b[0;34m(\u001b[0m\u001b[0mtensor_gpu\u001b[0m\u001b[0;34m.\u001b[0m\u001b[0mdevice\u001b[0m\u001b[0;34m)\u001b[0m\u001b[0;34m\u001b[0m\u001b[0;34m\u001b[0m\u001b[0m\n\u001b[1;32m      5\u001b[0m \u001b[0mprint\u001b[0m\u001b[0;34m(\u001b[0m\u001b[0mtensor_gpu\u001b[0m\u001b[0;34m.\u001b[0m\u001b[0mis_cuda\u001b[0m\u001b[0;34m)\u001b[0m\u001b[0;34m\u001b[0m\u001b[0;34m\u001b[0m\u001b[0m\n",
      "\u001b[0;32m/usr/local/lib/python3.6/dist-packages/torch/cuda/__init__.py\u001b[0m in \u001b[0;36m_lazy_init\u001b[0;34m()\u001b[0m\n\u001b[1;32m    170\u001b[0m         \u001b[0;31m# This function throws if there's a driver initialization error, no GPUs\u001b[0m\u001b[0;34m\u001b[0m\u001b[0;34m\u001b[0m\u001b[0;34m\u001b[0m\u001b[0m\n\u001b[1;32m    171\u001b[0m         \u001b[0;31m# are found or any other error occurs\u001b[0m\u001b[0;34m\u001b[0m\u001b[0;34m\u001b[0m\u001b[0;34m\u001b[0m\u001b[0m\n\u001b[0;32m--> 172\u001b[0;31m         \u001b[0mtorch\u001b[0m\u001b[0;34m.\u001b[0m\u001b[0m_C\u001b[0m\u001b[0;34m.\u001b[0m\u001b[0m_cuda_init\u001b[0m\u001b[0;34m(\u001b[0m\u001b[0;34m)\u001b[0m\u001b[0;34m\u001b[0m\u001b[0;34m\u001b[0m\u001b[0m\n\u001b[0m\u001b[1;32m    173\u001b[0m         \u001b[0;31m# Some of the queued calls may reentrantly call _lazy_init();\u001b[0m\u001b[0;34m\u001b[0m\u001b[0;34m\u001b[0m\u001b[0;34m\u001b[0m\u001b[0m\n\u001b[1;32m    174\u001b[0m         \u001b[0;31m# we need to just return without initializing in that case.\u001b[0m\u001b[0;34m\u001b[0m\u001b[0;34m\u001b[0m\u001b[0;34m\u001b[0m\u001b[0m\n",
      "\u001b[0;31mRuntimeError\u001b[0m: Found no NVIDIA driver on your system. Please check that you have an NVIDIA GPU and installed a driver from http://www.nvidia.com/Download/index.aspx"
     ]
    }
   ],
   "source": [
    "# 2，将张量在gpu和cpu间移动\n",
    "tensor = torch.rand((100,100))\n",
    "tensor_gpu = tensor.to(\"cuda:0\") # 或者 tensor_gpu = tensor.cuda()\n",
    "print(tensor_gpu.device)\n",
    "print(tensor_gpu.is_cuda)\n",
    "\n",
    "tensor_cpu = tensor_gpu.to(\"cpu\") # 或者 tensor_cpu = tensor_gpu.cpu() \n",
    "print(tensor_cpu.device)\n"
   ]
  },
  {
   "cell_type": "markdown",
   "id": "fa11fd9d",
   "metadata": {},
   "source": [
    "```\n",
    "cuda:0\n",
    "True\n",
    "cpu\n",
    "```"
   ]
  },
  {
   "cell_type": "code",
   "execution_count": null,
   "id": "c2196eee",
   "metadata": {},
   "outputs": [],
   "source": [
    "# 3，将模型中的全部张量移动到gpu上\n",
    "net = nn.Linear(2,1)\n",
    "print(next(net.parameters()).is_cuda)\n",
    "net.to(\"cuda:0\") # 将模型中的全部参数张量依次到GPU上，注意，无需重新赋值为 net = net.to(\"cuda:0\")\n",
    "print(next(net.parameters()).is_cuda)\n",
    "print(next(net.parameters()).device)"
   ]
  },
  {
   "cell_type": "markdown",
   "id": "ae5b1da1",
   "metadata": {},
   "source": [
    "```\n",
    "False\n",
    "True\n",
    "cuda:0\n",
    "```"
   ]
  },
  {
   "cell_type": "code",
   "execution_count": null,
   "id": "5f4f4c0a",
   "metadata": {},
   "outputs": [],
   "source": [
    "# 4，创建支持多个gpu数据并行的模型\n",
    "linear = nn.Linear(2,1)\n",
    "print(next(linear.parameters()).device)\n",
    "\n",
    "model = nn.DataParallel(linear)\n",
    "print(model.device_ids)\n",
    "print(next(model.module.parameters()).device) \n",
    "\n",
    "#注意保存参数时要指定保存model.module的参数\n",
    "torch.save(model.module.state_dict(), \"./data/model_parameter.pkl\") \n",
    "\n",
    "linear = nn.Linear(2,1)\n",
    "linear.load_state_dict(torch.load(\"./data/model_parameter.pkl\")) \n"
   ]
  },
  {
   "cell_type": "markdown",
   "id": "c3b18dcf",
   "metadata": {},
   "source": [
    "```\n",
    "cpu\n",
    "[0]\n",
    "cuda:0\n",
    "```"
   ]
  },
  {
   "cell_type": "code",
   "execution_count": null,
   "id": "d5dc943f",
   "metadata": {},
   "outputs": [],
   "source": [
    "# 5，清空cuda缓存\n",
    "\n",
    "# 该方法在cuda超内存时十分有用\n",
    "torch.cuda.empty_cache()\n"
   ]
  },
  {
   "cell_type": "code",
   "execution_count": null,
   "id": "33129576",
   "metadata": {},
   "outputs": [],
   "source": []
  },
  {
   "cell_type": "markdown",
   "id": "d624191d",
   "metadata": {},
   "source": [
    "### 一，矩阵乘法范例"
   ]
  },
  {
   "cell_type": "markdown",
   "id": "9b0aa6e5",
   "metadata": {},
   "source": [
    "下面分别使用CPU和GPU作一个矩阵乘法，并比较其计算效率。"
   ]
  },
  {
   "cell_type": "code",
   "execution_count": null,
   "id": "bdc0b090",
   "metadata": {},
   "outputs": [],
   "source": [
    "import time\n",
    "import torch \n",
    "from torch import nn"
   ]
  },
  {
   "cell_type": "code",
   "execution_count": null,
   "id": "3e356c98",
   "metadata": {},
   "outputs": [],
   "source": [
    "# 使用cpu\n",
    "a = torch.rand((10000,200))\n",
    "b = torch.rand((200,10000))\n",
    "tic = time.time()\n",
    "c = torch.matmul(a,b)\n",
    "toc = time.time()\n",
    "\n",
    "print(toc-tic)\n",
    "print(a.device)\n",
    "print(b.device)"
   ]
  },
  {
   "cell_type": "markdown",
   "id": "08957e97",
   "metadata": {},
   "source": [
    "```\n",
    "0.6454010009765625\n",
    "cpu\n",
    "cpu\n",
    "```"
   ]
  },
  {
   "cell_type": "code",
   "execution_count": null,
   "id": "699b4b50",
   "metadata": {},
   "outputs": [],
   "source": [
    "# 使用gpu\n",
    "device = torch.device(\"cuda:0\" if torch.cuda.is_available() else \"cpu\")\n",
    "a = torch.rand((10000,200),device = device) #可以指定在GPU上创建张量\n",
    "b = torch.rand((200,10000)) #也可以在CPU上创建张量后移动到GPU上\n",
    "b = b.to(device) #或者 b = b.cuda() if torch.cuda.is_available() else b \n",
    "tic = time.time()\n",
    "c = torch.matmul(a,b)\n",
    "toc = time.time()\n",
    "print(toc-tic)\n",
    "print(a.device)\n",
    "print(b.device)\n"
   ]
  },
  {
   "cell_type": "markdown",
   "id": "3f65b0ce",
   "metadata": {},
   "source": [
    "```\n",
    "0.014541149139404297\n",
    "cuda:0\n",
    "cuda:0\n",
    "```"
   ]
  },
  {
   "cell_type": "markdown",
   "id": "b4f0e7e9",
   "metadata": {},
   "source": [
    "### 二，线性回归范例\n"
   ]
  },
  {
   "cell_type": "markdown",
   "id": "9662d537",
   "metadata": {},
   "source": [
    "下面对比使用CPU和GPU训练一个线性回归模型的效率"
   ]
  },
  {
   "cell_type": "markdown",
   "id": "32036a78",
   "metadata": {},
   "source": [
    "**1，使用CPU**"
   ]
  },
  {
   "cell_type": "code",
   "execution_count": null,
   "id": "80bfb6b6",
   "metadata": {},
   "outputs": [],
   "source": [
    "# 准备数据\n",
    "n = 1000000 #样本数量\n",
    "\n",
    "X = 10*torch.rand([n,2])-5.0  #torch.rand是均匀分布 \n",
    "w0 = torch.tensor([[2.0,-3.0]])\n",
    "b0 = torch.tensor([[10.0]])\n",
    "Y = X@w0.t() + b0 + torch.normal( 0.0,2.0,size = [n,1])  # @表示矩阵乘法,增加正态扰动"
   ]
  },
  {
   "cell_type": "code",
   "execution_count": null,
   "id": "2d131c36",
   "metadata": {},
   "outputs": [],
   "source": [
    "# 定义模型\n",
    "class LinearRegression(nn.Module): \n",
    "    def __init__(self):\n",
    "        super().__init__()\n",
    "        self.w = nn.Parameter(torch.randn_like(w0))\n",
    "        self.b = nn.Parameter(torch.zeros_like(b0))\n",
    "    #正向传播\n",
    "    def forward(self,x): \n",
    "        return x@self.w.t() + self.b\n",
    "        \n",
    "linear = LinearRegression() \n"
   ]
  },
  {
   "cell_type": "code",
   "execution_count": null,
   "id": "63119447",
   "metadata": {},
   "outputs": [],
   "source": [
    "# 训练模型\n",
    "optimizer = torch.optim.Adam(linear.parameters(),lr = 0.1)\n",
    "loss_func = nn.MSELoss()\n",
    "\n",
    "def train(epoches):\n",
    "    tic = time.time()\n",
    "    for epoch in range(epoches):\n",
    "        optimizer.zero_grad()\n",
    "        Y_pred = linear(X) \n",
    "        loss = loss_func(Y_pred,Y)\n",
    "        loss.backward() \n",
    "        optimizer.step()\n",
    "        if epoch%50==0:\n",
    "            print({\"epoch\":epoch,\"loss\":loss.item()})\n",
    "    toc = time.time()\n",
    "    print(\"time used:\",toc-tic)\n",
    "\n",
    "train(500)"
   ]
  },
  {
   "cell_type": "markdown",
   "id": "f51f1f99",
   "metadata": {},
   "source": [
    "```\n",
    "{'epoch': 0, 'loss': 3.996487855911255}\n",
    "{'epoch': 50, 'loss': 3.9969770908355713}\n",
    "{'epoch': 100, 'loss': 3.9964890480041504}\n",
    "{'epoch': 150, 'loss': 3.996488332748413}\n",
    "{'epoch': 200, 'loss': 3.996488094329834}\n",
    "{'epoch': 250, 'loss': 3.996488332748413}\n",
    "{'epoch': 300, 'loss': 3.996488332748413}\n",
    "{'epoch': 350, 'loss': 3.996488094329834}\n",
    "{'epoch': 400, 'loss': 3.996488332748413}\n",
    "{'epoch': 450, 'loss': 3.996488094329834}\n",
    "time used: 5.4090576171875\n",
    "```\n",
    "\n"
   ]
  },
  {
   "cell_type": "markdown",
   "id": "18d25e23",
   "metadata": {},
   "source": [
    "**2，使用GPU**"
   ]
  },
  {
   "cell_type": "code",
   "execution_count": null,
   "id": "fe86d0f5",
   "metadata": {},
   "outputs": [],
   "source": [
    "# 准备数据\n",
    "n = 1000000 #样本数量\n",
    "\n",
    "X = 10*torch.rand([n,2])-5.0  #torch.rand是均匀分布 \n",
    "w0 = torch.tensor([[2.0,-3.0]])\n",
    "b0 = torch.tensor([[10.0]])\n",
    "Y = X@w0.t() + b0 + torch.normal( 0.0,2.0,size = [n,1])  # @表示矩阵乘法,增加正态扰动\n",
    "\n",
    "# 移动到GPU上\n",
    "print(\"torch.cuda.is_available() = \",torch.cuda.is_available())\n",
    "X = X.cuda()\n",
    "Y = Y.cuda()\n",
    "print(\"X.device:\",X.device)\n",
    "print(\"Y.device:\",Y.device)"
   ]
  },
  {
   "cell_type": "markdown",
   "id": "d3946b04",
   "metadata": {},
   "source": [
    "```\n",
    "torch.cuda.is_available() =  True\n",
    "X.device: cuda:0\n",
    "Y.device: cuda:0\n",
    "```"
   ]
  },
  {
   "cell_type": "code",
   "execution_count": null,
   "id": "7a900b13",
   "metadata": {},
   "outputs": [],
   "source": [
    "# 定义模型\n",
    "class LinearRegression(nn.Module): \n",
    "    def __init__(self):\n",
    "        super().__init__()\n",
    "        self.w = nn.Parameter(torch.randn_like(w0))\n",
    "        self.b = nn.Parameter(torch.zeros_like(b0))\n",
    "    #正向传播\n",
    "    def forward(self,x): \n",
    "        return x@self.w.t() + self.b\n",
    "        \n",
    "linear = LinearRegression() \n",
    "\n",
    "# 移动模型到GPU上\n",
    "device = torch.device(\"cuda:0\" if torch.cuda.is_available() else \"cpu\")\n",
    "linear.to(device)\n",
    "\n",
    "#查看模型是否已经移动到GPU上\n",
    "print(\"if on cuda:\",next(linear.parameters()).is_cuda)\n"
   ]
  },
  {
   "cell_type": "markdown",
   "id": "8804565a",
   "metadata": {},
   "source": [
    "```\n",
    "if on cuda: True\n",
    "```"
   ]
  },
  {
   "cell_type": "code",
   "execution_count": null,
   "id": "b234519b",
   "metadata": {},
   "outputs": [],
   "source": [
    "# 训练模型\n",
    "optimizer = torch.optim.Adam(linear.parameters(),lr = 0.1)\n",
    "loss_func = nn.MSELoss()\n",
    "\n",
    "def train(epoches):\n",
    "    tic = time.time()\n",
    "    for epoch in range(epoches):\n",
    "        optimizer.zero_grad()\n",
    "        Y_pred = linear(X) \n",
    "        loss = loss_func(Y_pred,Y)\n",
    "        loss.backward() \n",
    "        optimizer.step()\n",
    "        if epoch%50==0:\n",
    "            print({\"epoch\":epoch,\"loss\":loss.item()})\n",
    "    toc = time.time()\n",
    "    print(\"time used:\",toc-tic)\n",
    "    \n",
    "train(500)"
   ]
  },
  {
   "cell_type": "markdown",
   "id": "4e891c59",
   "metadata": {},
   "source": [
    "```\n",
    "{'epoch': 0, 'loss': 3.9982845783233643}\n",
    "{'epoch': 50, 'loss': 3.998818874359131}\n",
    "{'epoch': 100, 'loss': 3.9982895851135254}\n",
    "{'epoch': 150, 'loss': 3.9982845783233643}\n",
    "{'epoch': 200, 'loss': 3.998284339904785}\n",
    "{'epoch': 250, 'loss': 3.9982845783233643}\n",
    "{'epoch': 300, 'loss': 3.9982845783233643}\n",
    "{'epoch': 350, 'loss': 3.9982845783233643}\n",
    "{'epoch': 400, 'loss': 3.9982845783233643}\n",
    "{'epoch': 450, 'loss': 3.9982845783233643}\n",
    "time used: 0.4889392852783203\n",
    "```"
   ]
  },
  {
   "cell_type": "code",
   "execution_count": null,
   "id": "c8bdc613",
   "metadata": {},
   "outputs": [],
   "source": []
  },
  {
   "cell_type": "markdown",
   "id": "637be2f9",
   "metadata": {},
   "source": [
    "### 三，torchkeras.Model使用单GPU范例"
   ]
  },
  {
   "cell_type": "markdown",
   "id": "4351e15f",
   "metadata": {},
   "source": [
    "下面演示使用torchkeras.Model来应用GPU训练模型的方法。\n",
    "\n",
    "其对应的CPU训练模型代码参见《6-2,训练模型的3种方法》\n",
    "\n",
    "本例仅需要在它的基础上增加一行代码，在model.compile时指定 device即可。\n"
   ]
  },
  {
   "cell_type": "markdown",
   "id": "9ca4c592",
   "metadata": {},
   "source": [
    "**1，准备数据**"
   ]
  },
  {
   "cell_type": "code",
   "execution_count": null,
   "id": "045b7288",
   "metadata": {},
   "outputs": [],
   "source": [
    "!pip install -U torchkeras "
   ]
  },
  {
   "cell_type": "code",
   "execution_count": null,
   "id": "ac50a314",
   "metadata": {},
   "outputs": [],
   "source": [
    "import torch \n",
    "from torch import nn \n",
    "\n",
    "import torchvision \n",
    "from torchvision import transforms\n",
    "\n",
    "import torchkeras "
   ]
  },
  {
   "cell_type": "code",
   "execution_count": null,
   "id": "2d5e2176",
   "metadata": {},
   "outputs": [],
   "source": [
    "transform = transforms.Compose([transforms.ToTensor()])\n",
    "\n",
    "ds_train = torchvision.datasets.MNIST(root=\"./data/minist/\",train=True,download=True,transform=transform)\n",
    "ds_valid = torchvision.datasets.MNIST(root=\"./data/minist/\",train=False,download=True,transform=transform)\n",
    "\n",
    "dl_train =  torch.utils.data.DataLoader(ds_train, batch_size=128, shuffle=True, num_workers=4)\n",
    "dl_valid =  torch.utils.data.DataLoader(ds_valid, batch_size=128, shuffle=False, num_workers=4)\n",
    "\n",
    "print(len(ds_train))\n",
    "print(len(ds_valid))"
   ]
  },
  {
   "cell_type": "code",
   "execution_count": null,
   "id": "79801668",
   "metadata": {},
   "outputs": [],
   "source": [
    "%matplotlib inline\n",
    "%config InlineBackend.figure_format = 'svg'\n",
    "\n",
    "#查看部分样本\n",
    "from matplotlib import pyplot as plt \n",
    "\n",
    "plt.figure(figsize=(8,8)) \n",
    "for i in range(9):\n",
    "    img,label = ds_train[i]\n",
    "    img = torch.squeeze(img)\n",
    "    ax=plt.subplot(3,3,i+1)\n",
    "    ax.imshow(img.numpy())\n",
    "    ax.set_title(\"label = %d\"%label)\n",
    "    ax.set_xticks([])\n",
    "    ax.set_yticks([]) \n",
    "plt.show()"
   ]
  },
  {
   "cell_type": "code",
   "execution_count": null,
   "id": "ec87fcf5",
   "metadata": {},
   "outputs": [],
   "source": []
  },
  {
   "cell_type": "markdown",
   "id": "744e535a",
   "metadata": {},
   "source": [
    "**2，定义模型**"
   ]
  },
  {
   "cell_type": "code",
   "execution_count": null,
   "id": "f7047bd9",
   "metadata": {},
   "outputs": [],
   "source": [
    "class CnnModel(nn.Module):\n",
    "    def __init__(self):\n",
    "        super().__init__()\n",
    "        self.layers = nn.ModuleList([\n",
    "            nn.Conv2d(in_channels=1,out_channels=32,kernel_size = 3),\n",
    "            nn.MaxPool2d(kernel_size = 2,stride = 2),\n",
    "            nn.Conv2d(in_channels=32,out_channels=64,kernel_size = 5),\n",
    "            nn.MaxPool2d(kernel_size = 2,stride = 2),\n",
    "            nn.Dropout2d(p = 0.1),\n",
    "            nn.AdaptiveMaxPool2d((1,1)),\n",
    "            nn.Flatten(),\n",
    "            nn.Linear(64,32),\n",
    "            nn.ReLU(),\n",
    "            nn.Linear(32,10)]\n",
    "        )\n",
    "    def forward(self,x):\n",
    "        for layer in self.layers:\n",
    "            x = layer(x)\n",
    "        return x\n",
    "\n",
    "net = CnnModel()\n",
    "model = torchkeras.Model(net)\n",
    "model.summary(input_shape=(1,32,32))"
   ]
  },
  {
   "cell_type": "markdown",
   "id": "df0c7a00",
   "metadata": {},
   "source": [
    "```\n",
    "----------------------------------------------------------------\n",
    "        Layer (type)               Output Shape         Param #\n",
    "================================================================\n",
    "            Conv2d-1           [-1, 32, 30, 30]             320\n",
    "         MaxPool2d-2           [-1, 32, 15, 15]               0\n",
    "            Conv2d-3           [-1, 64, 11, 11]          51,264\n",
    "         MaxPool2d-4             [-1, 64, 5, 5]               0\n",
    "         Dropout2d-5             [-1, 64, 5, 5]               0\n",
    " AdaptiveMaxPool2d-6             [-1, 64, 1, 1]               0\n",
    "           Flatten-7                   [-1, 64]               0\n",
    "            Linear-8                   [-1, 32]           2,080\n",
    "              ReLU-9                   [-1, 32]               0\n",
    "           Linear-10                   [-1, 10]             330\n",
    "================================================================\n",
    "Total params: 53,994\n",
    "Trainable params: 53,994\n",
    "Non-trainable params: 0\n",
    "----------------------------------------------------------------\n",
    "Input size (MB): 0.003906\n",
    "Forward/backward pass size (MB): 0.359695\n",
    "Params size (MB): 0.205971\n",
    "Estimated Total Size (MB): 0.569572\n",
    "----------------------------------------------------------------\n",
    "```"
   ]
  },
  {
   "cell_type": "markdown",
   "id": "02d130e0",
   "metadata": {},
   "source": [
    "**3，训练模型**"
   ]
  },
  {
   "cell_type": "code",
   "execution_count": null,
   "id": "f776e3b3",
   "metadata": {},
   "outputs": [],
   "source": [
    "from sklearn.metrics import accuracy_score\n",
    "\n",
    "def accuracy(y_pred,y_true):\n",
    "    y_pred_cls = torch.argmax(nn.Softmax(dim=1)(y_pred),dim=1).data\n",
    "    return accuracy_score(y_true.cpu().numpy(),y_pred_cls.cpu().numpy()) \n",
    "    # 注意此处要将数据先移动到cpu上，然后才能转换成numpy数组\n",
    "\n",
    "device = torch.device(\"cuda:0\" if torch.cuda.is_available() else \"cpu\")\n",
    "\n",
    "model.compile(loss_func = nn.CrossEntropyLoss(),\n",
    "             optimizer= torch.optim.Adam(model.parameters(),lr = 0.02),\n",
    "             metrics_dict={\"accuracy\":accuracy},device = device) # 注意此处compile时指定了device\n",
    "\n",
    "dfhistory = model.fit(3,dl_train = dl_train, dl_val=dl_valid, log_step_freq=100) \n"
   ]
  },
  {
   "cell_type": "markdown",
   "id": "3182747e",
   "metadata": {},
   "source": [
    "```\n",
    "Start Training ...\n",
    "\n",
    "================================================================================2020-06-27 00:24:29\n",
    "{'step': 100, 'loss': 1.063, 'accuracy': 0.619}\n",
    "{'step': 200, 'loss': 0.681, 'accuracy': 0.764}\n",
    "{'step': 300, 'loss': 0.534, 'accuracy': 0.818}\n",
    "{'step': 400, 'loss': 0.458, 'accuracy': 0.847}\n",
    "\n",
    " +-------+-------+----------+----------+--------------+\n",
    "| epoch |  loss | accuracy | val_loss | val_accuracy |\n",
    "+-------+-------+----------+----------+--------------+\n",
    "|   1   | 0.412 |  0.863   |  0.128   |    0.961     |\n",
    "+-------+-------+----------+----------+--------------+\n",
    "\n",
    "================================================================================2020-06-27 00:24:35\n",
    "{'step': 100, 'loss': 0.147, 'accuracy': 0.956}\n",
    "{'step': 200, 'loss': 0.156, 'accuracy': 0.954}\n",
    "{'step': 300, 'loss': 0.156, 'accuracy': 0.954}\n",
    "{'step': 400, 'loss': 0.157, 'accuracy': 0.955}\n",
    "\n",
    " +-------+-------+----------+----------+--------------+\n",
    "| epoch |  loss | accuracy | val_loss | val_accuracy |\n",
    "+-------+-------+----------+----------+--------------+\n",
    "|   2   | 0.153 |  0.956   |  0.085   |    0.976     |\n",
    "+-------+-------+----------+----------+--------------+\n",
    "\n",
    "================================================================================2020-06-27 00:24:42\n",
    "{'step': 100, 'loss': 0.126, 'accuracy': 0.965}\n",
    "{'step': 200, 'loss': 0.147, 'accuracy': 0.96}\n",
    "{'step': 300, 'loss': 0.153, 'accuracy': 0.959}\n",
    "{'step': 400, 'loss': 0.147, 'accuracy': 0.96}\n",
    "\n",
    " +-------+-------+----------+----------+--------------+\n",
    "| epoch |  loss | accuracy | val_loss | val_accuracy |\n",
    "+-------+-------+----------+----------+--------------+\n",
    "|   3   | 0.146 |   0.96   |  0.119   |    0.968     |\n",
    "+-------+-------+----------+----------+--------------+\n",
    "\n",
    "================================================================================2020-06-27 00:24:48\n",
    "Finished Training...\n",
    "```"
   ]
  },
  {
   "cell_type": "markdown",
   "id": "007bb439",
   "metadata": {},
   "source": [
    "**4，评估模型**"
   ]
  },
  {
   "cell_type": "code",
   "execution_count": null,
   "id": "ac1d6394",
   "metadata": {},
   "outputs": [],
   "source": [
    "%matplotlib inline\n",
    "%config InlineBackend.figure_format = 'svg'\n",
    "\n",
    "import matplotlib.pyplot as plt\n",
    "\n",
    "def plot_metric(dfhistory, metric):\n",
    "    train_metrics = dfhistory[metric]\n",
    "    val_metrics = dfhistory['val_'+metric]\n",
    "    epochs = range(1, len(train_metrics) + 1)\n",
    "    plt.plot(epochs, train_metrics, 'bo--')\n",
    "    plt.plot(epochs, val_metrics, 'ro-')\n",
    "    plt.title('Training and validation '+ metric)\n",
    "    plt.xlabel(\"Epochs\")\n",
    "    plt.ylabel(metric)\n",
    "    plt.legend([\"train_\"+metric, 'val_'+metric])\n",
    "    plt.show()"
   ]
  },
  {
   "cell_type": "code",
   "execution_count": null,
   "id": "63325181",
   "metadata": {},
   "outputs": [],
   "source": [
    "plot_metric(dfhistory,\"loss\")"
   ]
  },
  {
   "cell_type": "code",
   "execution_count": null,
   "id": "c1f05eee",
   "metadata": {},
   "outputs": [],
   "source": [
    "plot_metric(dfhistory,\"accuracy\")"
   ]
  },
  {
   "cell_type": "code",
   "execution_count": null,
   "id": "be6daf9f",
   "metadata": {},
   "outputs": [],
   "source": [
    "model.evaluate(dl_valid)"
   ]
  },
  {
   "cell_type": "markdown",
   "id": "63030192",
   "metadata": {},
   "source": [
    "```\n",
    "{'val_accuracy': 0.967068829113924, 'val_loss': 0.11601964030650598}\n",
    "```"
   ]
  },
  {
   "cell_type": "markdown",
   "id": "88ecebc4",
   "metadata": {},
   "source": [
    "**5，使用模型**"
   ]
  },
  {
   "cell_type": "code",
   "execution_count": null,
   "id": "53dfa14e",
   "metadata": {},
   "outputs": [],
   "source": [
    "model.predict(dl_valid)[0:10]"
   ]
  },
  {
   "cell_type": "markdown",
   "id": "90d05efd",
   "metadata": {},
   "source": [
    "```\n",
    "tensor([[ -9.2092,   3.1997,   1.4028,  -2.7135,  -0.7320,  -2.0518, -20.4938,\n",
    "          14.6774,   1.7616,   5.8549],\n",
    "        [  2.8509,   4.9781,  18.0946,   0.0928,  -1.6061,  -4.1437,   4.8697,\n",
    "           3.8811,   4.3869,  -3.5929],\n",
    "        [-22.5231,  13.6643,   5.0244, -11.0188, -16.8147,  -9.5894,  -6.2556,\n",
    "         -10.5648, -12.1022, -19.4685],\n",
    "        [ 23.2670, -12.0711,  -7.3968,  -8.2715,  -1.0915, -12.6050,   8.0444,\n",
    "         -16.9339,   1.8827,  -0.2497],\n",
    "        [ -4.1159,   3.2102,   0.4971, -11.8064,  12.1460,  -5.1650,  -6.5918,\n",
    "           1.0088,   0.8362,   2.5132],\n",
    "        [-26.1764,  15.6251,   6.1191, -12.2424, -13.9725, -10.0540,  -7.8669,\n",
    "          -5.9602, -11.1944, -18.7890],\n",
    "        [ -5.0602,   3.3779,  -0.6647,  -8.5185,  10.0320,  -5.5107,  -6.9579,\n",
    "           2.3811,   0.2542,   3.2860],\n",
    "        [  4.1017,  -0.4282,   7.2220,   3.3700,  -3.6813,   1.1576,  -1.8479,\n",
    "           0.7450,   3.9768,   6.2640],\n",
    "        [  1.9689,  -0.3960,   7.4414, -10.4789,   2.7066,   1.7482,   5.7971,\n",
    "          -4.5808,   3.0911,  -5.1971],\n",
    "        [ -2.9680,  -1.2369,  -0.0829,  -1.8577,   1.9380,  -0.8374,  -8.2207,\n",
    "           3.5060,   3.8735,  13.6762]], device='cuda:0')\n",
    "```"
   ]
  },
  {
   "cell_type": "markdown",
   "id": "085062c5",
   "metadata": {},
   "source": [
    "**6，保存模型**"
   ]
  },
  {
   "cell_type": "code",
   "execution_count": null,
   "id": "c84f67a9",
   "metadata": {},
   "outputs": [],
   "source": [
    "# save the model parameters\n",
    "torch.save(model.state_dict(), \"model_parameter.pkl\")\n",
    "\n",
    "model_clone = torchkeras.Model(CnnModel())\n",
    "model_clone.load_state_dict(torch.load(\"model_parameter.pkl\"))\n",
    "\n",
    "model_clone.compile(loss_func = nn.CrossEntropyLoss(),\n",
    "             optimizer= torch.optim.Adam(model.parameters(),lr = 0.02),\n",
    "             metrics_dict={\"accuracy\":accuracy},device = device) # 注意此处compile时指定了device\n",
    "\n",
    "model_clone.evaluate(dl_valid)"
   ]
  },
  {
   "cell_type": "markdown",
   "id": "9d3398ea",
   "metadata": {},
   "source": [
    "```\n",
    "{'val_accuracy': 0.967068829113924, 'val_loss': 0.11601964030650598}\n",
    "```"
   ]
  },
  {
   "cell_type": "markdown",
   "id": "1bd9b109",
   "metadata": {},
   "source": [
    "### 四，torchkeras.Model使用多GPU范例"
   ]
  },
  {
   "cell_type": "markdown",
   "id": "a4dd6932",
   "metadata": {},
   "source": [
    "注：以下范例需要在有多个GPU的机器上跑。如果在单GPU的机器上跑，也能跑通，但是实际上使用的是单个GPU。"
   ]
  },
  {
   "cell_type": "markdown",
   "id": "5f553d92",
   "metadata": {},
   "source": [
    "**1，准备数据**"
   ]
  },
  {
   "cell_type": "code",
   "execution_count": null,
   "id": "9488e376",
   "metadata": {},
   "outputs": [],
   "source": [
    "import torch \n",
    "from torch import nn \n",
    "\n",
    "import torchvision \n",
    "from torchvision import transforms\n",
    "\n",
    "import torchkeras "
   ]
  },
  {
   "cell_type": "code",
   "execution_count": null,
   "id": "436d8d5c",
   "metadata": {},
   "outputs": [],
   "source": [
    "transform = transforms.Compose([transforms.ToTensor()])\n",
    "\n",
    "ds_train = torchvision.datasets.MNIST(root=\"./data/minist/\",train=True,download=True,transform=transform)\n",
    "ds_valid = torchvision.datasets.MNIST(root=\"./data/minist/\",train=False,download=True,transform=transform)\n",
    "\n",
    "dl_train =  torch.utils.data.DataLoader(ds_train, batch_size=128, shuffle=True, num_workers=4)\n",
    "dl_valid =  torch.utils.data.DataLoader(ds_valid, batch_size=128, shuffle=False, num_workers=4)\n",
    "\n",
    "print(len(ds_train))\n",
    "print(len(ds_valid))"
   ]
  },
  {
   "cell_type": "markdown",
   "id": "dcd39a04",
   "metadata": {},
   "source": [
    "**2，定义模型**"
   ]
  },
  {
   "cell_type": "code",
   "execution_count": null,
   "id": "37d8314a",
   "metadata": {},
   "outputs": [],
   "source": [
    "class CnnModule(nn.Module):\n",
    "    def __init__(self):\n",
    "        super().__init__()\n",
    "        self.layers = nn.ModuleList([\n",
    "            nn.Conv2d(in_channels=1,out_channels=32,kernel_size = 3),\n",
    "            nn.MaxPool2d(kernel_size = 2,stride = 2),\n",
    "            nn.Conv2d(in_channels=32,out_channels=64,kernel_size = 5),\n",
    "            nn.MaxPool2d(kernel_size = 2,stride = 2),\n",
    "            nn.Dropout2d(p = 0.1),\n",
    "            nn.AdaptiveMaxPool2d((1,1)),\n",
    "            nn.Flatten(),\n",
    "            nn.Linear(64,32),\n",
    "            nn.ReLU(),\n",
    "            nn.Linear(32,10)]\n",
    "        )\n",
    "    def forward(self,x):\n",
    "        for layer in self.layers:\n",
    "            x = layer(x)  \n",
    "        return x\n",
    "\n",
    "net = nn.DataParallel(CnnModule())  #Attention this line!!!\n",
    "model = torchkeras.Model(net)\n",
    "\n",
    "model.summary(input_shape=(1,32,32))"
   ]
  },
  {
   "cell_type": "code",
   "execution_count": null,
   "id": "10880b7b",
   "metadata": {},
   "outputs": [],
   "source": []
  },
  {
   "cell_type": "markdown",
   "id": "9ddb20b3",
   "metadata": {},
   "source": [
    "**3，训练模型**"
   ]
  },
  {
   "cell_type": "code",
   "execution_count": null,
   "id": "3751f30e",
   "metadata": {},
   "outputs": [],
   "source": [
    "from sklearn.metrics import accuracy_score\n",
    "\n",
    "def accuracy(y_pred,y_true):\n",
    "    y_pred_cls = torch.argmax(nn.Softmax(dim=1)(y_pred),dim=1).data\n",
    "    return accuracy_score(y_true.cpu().numpy(),y_pred_cls.cpu().numpy()) \n",
    "    # 注意此处要将数据先移动到cpu上，然后才能转换成numpy数组\n",
    "\n",
    "device = torch.device(\"cuda:0\" if torch.cuda.is_available() else \"cpu\")\n",
    "model.compile(loss_func = nn.CrossEntropyLoss(),\n",
    "             optimizer= torch.optim.Adam(model.parameters(),lr = 0.02),\n",
    "             metrics_dict={\"accuracy\":accuracy},device = device) # 注意此处compile时指定了device\n",
    "\n",
    "dfhistory = model.fit(3,dl_train = dl_train, dl_val=dl_valid, log_step_freq=100) \n"
   ]
  },
  {
   "cell_type": "markdown",
   "id": "16634d10",
   "metadata": {},
   "source": [
    "```\n",
    "Start Training ...\n",
    "\n",
    "================================================================================2020-06-27 00:24:29\n",
    "{'step': 100, 'loss': 1.063, 'accuracy': 0.619}\n",
    "{'step': 200, 'loss': 0.681, 'accuracy': 0.764}\n",
    "{'step': 300, 'loss': 0.534, 'accuracy': 0.818}\n",
    "{'step': 400, 'loss': 0.458, 'accuracy': 0.847}\n",
    "\n",
    " +-------+-------+----------+----------+--------------+\n",
    "| epoch |  loss | accuracy | val_loss | val_accuracy |\n",
    "+-------+-------+----------+----------+--------------+\n",
    "|   1   | 0.412 |  0.863   |  0.128   |    0.961     |\n",
    "+-------+-------+----------+----------+--------------+\n",
    "\n",
    "================================================================================2020-06-27 00:24:35\n",
    "{'step': 100, 'loss': 0.147, 'accuracy': 0.956}\n",
    "{'step': 200, 'loss': 0.156, 'accuracy': 0.954}\n",
    "{'step': 300, 'loss': 0.156, 'accuracy': 0.954}\n",
    "{'step': 400, 'loss': 0.157, 'accuracy': 0.955}\n",
    "\n",
    " +-------+-------+----------+----------+--------------+\n",
    "| epoch |  loss | accuracy | val_loss | val_accuracy |\n",
    "+-------+-------+----------+----------+--------------+\n",
    "|   2   | 0.153 |  0.956   |  0.085   |    0.976     |\n",
    "+-------+-------+----------+----------+--------------+\n",
    "\n",
    "================================================================================2020-06-27 00:24:42\n",
    "{'step': 100, 'loss': 0.126, 'accuracy': 0.965}\n",
    "{'step': 200, 'loss': 0.147, 'accuracy': 0.96}\n",
    "{'step': 300, 'loss': 0.153, 'accuracy': 0.959}\n",
    "{'step': 400, 'loss': 0.147, 'accuracy': 0.96}\n",
    "\n",
    " +-------+-------+----------+----------+--------------+\n",
    "| epoch |  loss | accuracy | val_loss | val_accuracy |\n",
    "+-------+-------+----------+----------+--------------+\n",
    "|   3   | 0.146 |   0.96   |  0.119   |    0.968     |\n",
    "+-------+-------+----------+----------+--------------+\n",
    "\n",
    "================================================================================2020-06-27 00:24:48\n",
    "Finished Training...\n",
    "```"
   ]
  },
  {
   "cell_type": "markdown",
   "id": "93338990",
   "metadata": {},
   "source": [
    "**4，评估模型**"
   ]
  },
  {
   "cell_type": "code",
   "execution_count": null,
   "id": "f8fcc5e8",
   "metadata": {},
   "outputs": [],
   "source": [
    "%matplotlib inline\n",
    "%config InlineBackend.figure_format = 'svg'\n",
    "\n",
    "import matplotlib.pyplot as plt\n",
    "\n",
    "def plot_metric(dfhistory, metric):\n",
    "    train_metrics = dfhistory[metric]\n",
    "    val_metrics = dfhistory['val_'+metric]\n",
    "    epochs = range(1, len(train_metrics) + 1)\n",
    "    plt.plot(epochs, train_metrics, 'bo--')\n",
    "    plt.plot(epochs, val_metrics, 'ro-')\n",
    "    plt.title('Training and validation '+ metric)\n",
    "    plt.xlabel(\"Epochs\")\n",
    "    plt.ylabel(metric)\n",
    "    plt.legend([\"train_\"+metric, 'val_'+metric])\n",
    "    plt.show()"
   ]
  },
  {
   "cell_type": "code",
   "execution_count": null,
   "id": "ef31b7c3",
   "metadata": {},
   "outputs": [],
   "source": [
    "plot_metric(dfhistory, \"loss\")"
   ]
  },
  {
   "cell_type": "code",
   "execution_count": null,
   "id": "ff26dd17",
   "metadata": {},
   "outputs": [],
   "source": [
    "plot_metric(dfhistory,\"accuracy\")"
   ]
  },
  {
   "cell_type": "code",
   "execution_count": null,
   "id": "abed838b",
   "metadata": {},
   "outputs": [],
   "source": [
    "model.evaluate(dl_valid)"
   ]
  },
  {
   "cell_type": "markdown",
   "id": "19b47326",
   "metadata": {},
   "source": [
    "```\n",
    "{'val_accuracy': 0.9603441455696202, 'val_loss': 0.14203246376371081}\n",
    "```"
   ]
  },
  {
   "cell_type": "markdown",
   "id": "3644c4e3",
   "metadata": {},
   "source": [
    "**5，使用模型**"
   ]
  },
  {
   "cell_type": "code",
   "execution_count": null,
   "id": "0b4c9d14",
   "metadata": {},
   "outputs": [],
   "source": [
    "model.predict(dl_valid)[0:10]"
   ]
  },
  {
   "cell_type": "markdown",
   "id": "3148b117",
   "metadata": {},
   "source": [
    "```\n",
    "tensor([[ -9.2092,   3.1997,   1.4028,  -2.7135,  -0.7320,  -2.0518, -20.4938,\n",
    "          14.6774,   1.7616,   5.8549],\n",
    "        [  2.8509,   4.9781,  18.0946,   0.0928,  -1.6061,  -4.1437,   4.8697,\n",
    "           3.8811,   4.3869,  -3.5929],\n",
    "        [-22.5231,  13.6643,   5.0244, -11.0188, -16.8147,  -9.5894,  -6.2556,\n",
    "         -10.5648, -12.1022, -19.4685],\n",
    "        [ 23.2670, -12.0711,  -7.3968,  -8.2715,  -1.0915, -12.6050,   8.0444,\n",
    "         -16.9339,   1.8827,  -0.2497],\n",
    "        [ -4.1159,   3.2102,   0.4971, -11.8064,  12.1460,  -5.1650,  -6.5918,\n",
    "           1.0088,   0.8362,   2.5132],\n",
    "        [-26.1764,  15.6251,   6.1191, -12.2424, -13.9725, -10.0540,  -7.8669,\n",
    "          -5.9602, -11.1944, -18.7890],\n",
    "        [ -5.0602,   3.3779,  -0.6647,  -8.5185,  10.0320,  -5.5107,  -6.9579,\n",
    "           2.3811,   0.2542,   3.2860],\n",
    "        [  4.1017,  -0.4282,   7.2220,   3.3700,  -3.6813,   1.1576,  -1.8479,\n",
    "           0.7450,   3.9768,   6.2640],\n",
    "        [  1.9689,  -0.3960,   7.4414, -10.4789,   2.7066,   1.7482,   5.7971,\n",
    "          -4.5808,   3.0911,  -5.1971],\n",
    "        [ -2.9680,  -1.2369,  -0.0829,  -1.8577,   1.9380,  -0.8374,  -8.2207,\n",
    "           3.5060,   3.8735,  13.6762]], device='cuda:0')\n",
    "```"
   ]
  },
  {
   "cell_type": "markdown",
   "id": "e8cd8ab2",
   "metadata": {},
   "source": [
    "**6，保存模型**"
   ]
  },
  {
   "cell_type": "code",
   "execution_count": null,
   "id": "35902928",
   "metadata": {},
   "outputs": [],
   "source": [
    "# save the model parameters\n",
    "torch.save(model.net.module.state_dict(), \"model_parameter.pkl\")\n",
    "\n",
    "net_clone = CnnModel()\n",
    "net_clone.load_state_dict(torch.load(\"model_parameter.pkl\"))\n",
    "\n",
    "model_clone = torchkeras.Model(net_clone)\n",
    "model_clone.compile(loss_func = nn.CrossEntropyLoss(),\n",
    "             optimizer= torch.optim.Adam(model.parameters(),lr = 0.02),\n",
    "             metrics_dict={\"accuracy\":accuracy},device = device)\n",
    "model_clone.evaluate(dl_valid)\n"
   ]
  },
  {
   "cell_type": "markdown",
   "id": "d6fe3aa8",
   "metadata": {},
   "source": [
    "```\n",
    "{'val_accuracy': 0.9603441455696202, 'val_loss': 0.14203246376371081}\n",
    "```"
   ]
  },
  {
   "cell_type": "code",
   "execution_count": null,
   "id": "0a686cf9",
   "metadata": {},
   "outputs": [],
   "source": []
  },
  {
   "cell_type": "markdown",
   "id": "002d225a",
   "metadata": {},
   "source": [
    "### 五，torchkeras.LightModel使用GPU/TPU范例\n"
   ]
  },
  {
   "cell_type": "markdown",
   "id": "2acbe8b6",
   "metadata": {},
   "source": [
    "使用torchkeras.LightModel可以非常容易地将训练模式从cpu切换到单个gpu，多个gpu乃至多个tpu.\n"
   ]
  },
  {
   "cell_type": "markdown",
   "id": "88047667",
   "metadata": {},
   "source": [
    "**1，准备数据**"
   ]
  },
  {
   "cell_type": "code",
   "execution_count": null,
   "id": "be1ec9e4",
   "metadata": {},
   "outputs": [],
   "source": [
    "import torch \n",
    "from torch import nn \n",
    "\n",
    "import torchvision \n",
    "from torchvision import transforms\n",
    "\n",
    "import torchkeras "
   ]
  },
  {
   "cell_type": "code",
   "execution_count": null,
   "id": "690e9071",
   "metadata": {},
   "outputs": [],
   "source": [
    "transform = transforms.Compose([transforms.ToTensor()])\n",
    "\n",
    "ds_train = torchvision.datasets.MNIST(root=\"./data/minist/\",train=True,download=True,transform=transform)\n",
    "ds_valid = torchvision.datasets.MNIST(root=\"./data/minist/\",train=False,download=True,transform=transform)\n",
    "\n",
    "dl_train =  torch.utils.data.DataLoader(ds_train, batch_size=128, shuffle=True, num_workers=4)\n",
    "dl_valid =  torch.utils.data.DataLoader(ds_valid, batch_size=128, shuffle=False, num_workers=4)\n",
    "\n",
    "print(len(ds_train))\n",
    "print(len(ds_valid))"
   ]
  },
  {
   "cell_type": "markdown",
   "id": "36b4222c",
   "metadata": {},
   "source": [
    "**2，定义模型**"
   ]
  },
  {
   "cell_type": "code",
   "execution_count": null,
   "id": "0bdb6087",
   "metadata": {},
   "outputs": [],
   "source": [
    "import torchkeras \n",
    "import pytorch_lightning as pl \n",
    "\n",
    "class CnnNet(nn.Module):\n",
    "    def __init__(self):\n",
    "        super().__init__()\n",
    "        self.layers = nn.ModuleList([\n",
    "            nn.Conv2d(in_channels=1,out_channels=32,kernel_size = 3),\n",
    "            nn.MaxPool2d(kernel_size = 2,stride = 2),\n",
    "            nn.Conv2d(in_channels=32,out_channels=64,kernel_size = 5),\n",
    "            nn.MaxPool2d(kernel_size = 2,stride = 2),\n",
    "            nn.Dropout2d(p = 0.1),\n",
    "            nn.AdaptiveMaxPool2d((1,1)),\n",
    "            nn.Flatten(),\n",
    "            nn.Linear(64,32),\n",
    "            nn.ReLU(),\n",
    "            nn.Linear(32,10)]\n",
    "        )\n",
    "    def forward(self,x):\n",
    "        for layer in self.layers:\n",
    "            x = layer(x)\n",
    "        return x\n",
    "    \n",
    "\n",
    "class Model(torchkeras.LightModel):\n",
    "    \n",
    "    #loss,and optional metrics\n",
    "    def shared_step(self,batch)->dict:\n",
    "        x, y = batch\n",
    "        prediction = self(x)\n",
    "        loss = nn.CrossEntropyLoss()(prediction,y)\n",
    "        preds = torch.argmax(nn.Softmax(dim=1)(prediction),dim=1).data\n",
    "        acc = pl.metrics.functional.accuracy(preds, y)\n",
    "        dic = {\"loss\":loss,\"acc\":acc} \n",
    "        return dic\n",
    "    \n",
    "    #optimizer,and optional lr_scheduler\n",
    "    def configure_optimizers(self):\n",
    "        optimizer = torch.optim.Adam(self.parameters(), lr=1e-2)\n",
    "        lr_scheduler = torch.optim.lr_scheduler.StepLR(optimizer, step_size=10, gamma=0.0001)\n",
    "        return {\"optimizer\":optimizer,\"lr_scheduler\":lr_scheduler}\n",
    "    \n",
    "pl.seed_everything(1234)\n",
    "net = CnnNet()\n",
    "model = Model(net)\n",
    "\n",
    "torchkeras.summary(model,input_shape=(1,32,32))\n",
    "print(model)\n"
   ]
  },
  {
   "cell_type": "code",
   "execution_count": null,
   "id": "721b9c31",
   "metadata": {},
   "outputs": [],
   "source": []
  },
  {
   "cell_type": "markdown",
   "id": "236351e4",
   "metadata": {},
   "source": [
    "**3，训练模型**"
   ]
  },
  {
   "cell_type": "code",
   "execution_count": null,
   "id": "00c4db5c",
   "metadata": {},
   "outputs": [],
   "source": [
    "ckpt_cb = pl.callbacks.ModelCheckpoint(monitor='val_loss')\n",
    "\n",
    "# set gpus=0 will use cpu，\n",
    "# set gpus=1 will use 1 gpu\n",
    "# set gpus=2 will use 2gpus \n",
    "# set gpus = -1 will use all gpus \n",
    "# you can also set gpus = [0,1] to use the  given gpus\n",
    "# you can even set tpu_cores=2 to use two tpus \n",
    "\n",
    "trainer = pl.Trainer(max_epochs=10,gpus = 2, callbacks=[ckpt_cb]) \n",
    "\n",
    "trainer.fit(model,dl_train,dl_valid)"
   ]
  },
  {
   "cell_type": "markdown",
   "id": "4a66f96a",
   "metadata": {},
   "source": [
    "```\n",
    "================================================================================2021-01-16 23:13:34\n",
    "epoch =  0\n",
    "{'val_loss': 0.0954340249300003, 'val_acc': 0.9727057218551636}\n",
    "{'acc': 0.910403311252594, 'loss': 0.27809813618659973}\n",
    "\n",
    "================================================================================2021-01-16 23:15:02\n",
    "epoch =  1\n",
    "{'val_loss': 0.06748798489570618, 'val_acc': 0.9809137582778931}\n",
    "{'acc': 0.9663013219833374, 'loss': 0.10915637016296387}\n",
    "\n",
    "================================================================================2021-01-16 23:16:34\n",
    "epoch =  2\n",
    "{'val_loss': 0.06344369053840637, 'val_acc': 0.980320394039154}\n",
    "{'acc': 0.9712153673171997, 'loss': 0.09515620768070221}\n",
    "\n",
    "================================================================================2021-01-16 23:18:05\n",
    "epoch =  3\n",
    "{'val_loss': 0.08105307072401047, 'val_acc': 0.977155864238739}\n",
    "{'acc': 0.9747745990753174, 'loss': 0.08337805420160294}\n",
    "\n",
    "================================================================================2021-01-16 23:19:38\n",
    "epoch =  4\n",
    "{'val_loss': 0.06881670653820038, 'val_acc': 0.9798259735107422}\n",
    "{'acc': 0.9764847159385681, 'loss': 0.08077647536993027}\n",
    "\n",
    "================================================================================2021-01-16 23:21:11\n",
    "epoch =  5\n",
    "{'val_loss': 0.07127966731786728, 'val_acc': 0.980320394039154}\n",
    "{'acc': 0.9758350849151611, 'loss': 0.08572731912136078}\n",
    "\n",
    "================================================================================2021-01-16 23:22:41\n",
    "epoch =  6\n",
    "{'val_loss': 0.1256944239139557, 'val_acc': 0.9672666192054749}\n",
    "{'acc': 0.978233814239502, 'loss': 0.07292930781841278}\n",
    "\n",
    "================================================================================2021-01-16 23:24:05\n",
    "epoch =  7\n",
    "{'val_loss': 0.08458385616540909, 'val_acc': 0.9767602682113647}\n",
    "{'acc': 0.9790666699409485, 'loss': 0.0768343135714531}\n",
    "\n",
    "================================================================================2021-01-16 23:25:32\n",
    "epoch =  8\n",
    "{'val_loss': 0.06721501052379608, 'val_acc': 0.983188271522522}\n",
    "{'acc': 0.9786669015884399, 'loss': 0.07818026840686798}\n",
    "\n",
    "================================================================================2021-01-16 23:26:56\n",
    "epoch =  9\n",
    "{'val_loss': 0.06671519577503204, 'val_acc': 0.9839794039726257}\n",
    "{'acc': 0.9826259613037109, 'loss': 0.06241251528263092}\n",
    "```"
   ]
  },
  {
   "cell_type": "code",
   "execution_count": null,
   "id": "a0c64149",
   "metadata": {},
   "outputs": [],
   "source": []
  },
  {
   "cell_type": "markdown",
   "id": "bd0938c3",
   "metadata": {},
   "source": [
    "**4，评估模型**"
   ]
  },
  {
   "cell_type": "code",
   "execution_count": null,
   "id": "f60cca2b",
   "metadata": {},
   "outputs": [],
   "source": [
    "import pandas as pd \n",
    "\n",
    "history = model.history\n",
    "dfhistory = pd.DataFrame(history) \n",
    "dfhistory "
   ]
  },
  {
   "cell_type": "code",
   "execution_count": null,
   "id": "315191c1",
   "metadata": {},
   "outputs": [],
   "source": [
    "%matplotlib inline\n",
    "%config InlineBackend.figure_format = 'svg'\n",
    "\n",
    "import matplotlib.pyplot as plt\n",
    "\n",
    "def plot_metric(dfhistory, metric):\n",
    "    train_metrics = dfhistory[metric]\n",
    "    val_metrics = dfhistory['val_'+metric]\n",
    "    epochs = range(1, len(train_metrics) + 1)\n",
    "    plt.plot(epochs, train_metrics, 'bo--')\n",
    "    plt.plot(epochs, val_metrics, 'ro-')\n",
    "    plt.title('Training and validation '+ metric)\n",
    "    plt.xlabel(\"Epochs\")\n",
    "    plt.ylabel(metric)\n",
    "    plt.legend([\"train_\"+metric, 'val_'+metric])\n",
    "    plt.show()"
   ]
  },
  {
   "cell_type": "code",
   "execution_count": null,
   "id": "c5aaef59",
   "metadata": {},
   "outputs": [],
   "source": [
    "plot_metric(dfhistory,\"loss\")"
   ]
  },
  {
   "cell_type": "code",
   "execution_count": null,
   "id": "c3f3e8f7",
   "metadata": {},
   "outputs": [],
   "source": [
    "plot_metric(dfhistory,\"acc\")"
   ]
  },
  {
   "cell_type": "code",
   "execution_count": null,
   "id": "cfc94749",
   "metadata": {},
   "outputs": [],
   "source": [
    "results = trainer.test(model, test_dataloaders=dl_valid, verbose = False)\n",
    "print(results[0])"
   ]
  },
  {
   "cell_type": "markdown",
   "id": "6ca121bc",
   "metadata": {},
   "source": [
    "```\n",
    "{'test_loss': 0.005034677684307098, 'test_acc': 1.0}\n",
    "```"
   ]
  },
  {
   "cell_type": "code",
   "execution_count": null,
   "id": "fe1ac840",
   "metadata": {},
   "outputs": [],
   "source": []
  },
  {
   "cell_type": "markdown",
   "id": "49998f17",
   "metadata": {},
   "source": [
    "**5，使用模型**"
   ]
  },
  {
   "cell_type": "code",
   "execution_count": null,
   "id": "7c136a7b",
   "metadata": {},
   "outputs": [],
   "source": [
    "def predict(model,dl):\n",
    "    model.eval()\n",
    "    preds = torch.cat([model.forward(t[0].to(model.device)) for t in dl])\n",
    "    \n",
    "    result = torch.argmax(nn.Softmax(dim=1)(preds),dim=1).data\n",
    "    return(result.data)\n",
    "\n",
    "result = predict(model,dl_valid)\n",
    "result "
   ]
  },
  {
   "cell_type": "markdown",
   "id": "4c0f16cb",
   "metadata": {},
   "source": [
    "```\n",
    "tensor([7, 2, 1,  ..., 4, 5, 6])\n",
    "```"
   ]
  },
  {
   "cell_type": "code",
   "execution_count": null,
   "id": "f2ee9cd0",
   "metadata": {},
   "outputs": [],
   "source": []
  },
  {
   "cell_type": "markdown",
   "id": "efccad22",
   "metadata": {},
   "source": [
    "**6，保存模型**"
   ]
  },
  {
   "cell_type": "code",
   "execution_count": null,
   "id": "63b3875b",
   "metadata": {},
   "outputs": [],
   "source": [
    "print(ckpt_cb.best_model_score)\n",
    "model.load_from_checkpoint(ckpt_cb.best_model_path)\n",
    "\n",
    "best_net  = model.net\n",
    "torch.save(best_net.state_dict(),\"./data/net.pt\")"
   ]
  },
  {
   "cell_type": "code",
   "execution_count": null,
   "id": "a92e5b7a",
   "metadata": {},
   "outputs": [],
   "source": [
    "net_clone = CnnNet()\n",
    "net_clone.load_state_dict(torch.load(\"./data/net.pt\"))\n",
    "model_clone = Model(net_clone)\n",
    "trainer = pl.Trainer()\n",
    "result = trainer.test(model_clone,test_dataloaders=dl_valid, verbose = False) \n",
    "\n",
    "print(result)"
   ]
  },
  {
   "cell_type": "code",
   "execution_count": null,
   "id": "5843b952",
   "metadata": {},
   "outputs": [],
   "source": []
  },
  {
   "cell_type": "markdown",
   "id": "e9f0d675",
   "metadata": {},
   "source": [
    "**如果本书对你有所帮助，想鼓励一下作者，记得给本项目加一颗星星star⭐️，并分享给你的朋友们喔😊!** \n",
    "\n",
    "如果对本书内容理解上有需要进一步和作者交流的地方，欢迎在公众号\"算法美食屋\"下留言。作者时间和精力有限，会酌情予以回复。\n",
    "\n",
    "也可以在公众号后台回复关键字：**加群**，加入读者交流群和大家讨论。\n",
    "\n",
    "![算法美食屋logo.png](./data/算法美食屋二维码.jpg)"
   ]
  }
 ],
 "metadata": {
  "jupytext": {
   "cell_metadata_filter": "-all",
   "formats": "ipynb,md",
   "main_language": "python"
  },
  "kernelspec": {
   "display_name": "Python 3",
   "language": "python",
   "name": "python3"
  },
  "language_info": {
   "codemirror_mode": {
    "name": "ipython",
    "version": 3
   },
   "file_extension": ".py",
   "mimetype": "text/x-python",
   "name": "python",
   "nbconvert_exporter": "python",
   "pygments_lexer": "ipython3",
   "version": "3.6.9"
  }
 },
 "nbformat": 4,
 "nbformat_minor": 5
}
