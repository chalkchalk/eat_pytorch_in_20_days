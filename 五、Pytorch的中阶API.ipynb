{
 "cells": [
  {
   "cell_type": "markdown",
   "id": "7d49fe8a",
   "metadata": {},
   "source": [
    "# 五、Pytorch的中阶API\n",
    "\n",
    "我们将主要介绍Pytorch的如下中阶API\n",
    "\n",
    "* 数据管道\n",
    "\n",
    "* 模型层\n",
    "\n",
    "* 损失函数\n",
    "\n",
    "* TensorBoard可视化\n",
    "\n",
    "如果把模型比作一个房子，那么中阶API就是【模型之墙】。"
   ]
  },
  {
   "cell_type": "markdown",
   "id": "7d540986",
   "metadata": {},
   "source": [
    "**如果本书对你有所帮助，想鼓励一下作者，记得给本项目加一颗星星star⭐️，并分享给你的朋友们喔😊!** \n",
    "\n",
    "如果对本书内容理解上有需要进一步和作者交流的地方，欢迎在公众号\"算法美食屋\"下留言。作者时间和精力有限，会酌情予以回复。\n",
    "\n",
    "也可以在公众号后台回复关键字：**加群**，加入读者交流群和大家讨论。\n",
    "\n",
    "![算法美食屋logo.png](./data/算法美食屋二维码.jpg)"
   ]
  },
  {
   "cell_type": "code",
   "execution_count": null,
   "id": "9fac3695",
   "metadata": {},
   "outputs": [],
   "source": []
  }
 ],
 "metadata": {
  "jupytext": {
   "cell_metadata_filter": "-all",
   "formats": "ipynb,md",
   "main_language": "python"
  }
 },
 "nbformat": 4,
 "nbformat_minor": 5
}
