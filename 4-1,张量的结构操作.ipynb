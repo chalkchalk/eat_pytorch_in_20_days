{
 "cells": [
  {
   "cell_type": "markdown",
   "id": "0dba3d72",
   "metadata": {},
   "source": [
    "# 4-1,张量的结构操作\n",
    "\n",
    "张量的操作主要包括张量的结构操作和张量的数学运算。\n",
    "\n",
    "张量结构操作诸如：张量创建，索引切片，维度变换，合并分割。\n",
    "\n",
    "张量数学运算主要有：标量运算，向量运算，矩阵运算。另外我们会介绍张量运算的广播机制。\n",
    "\n",
    "本篇我们介绍张量的结构操作。"
   ]
  },
  {
   "cell_type": "markdown",
   "id": "e607fb61",
   "metadata": {},
   "source": [
    "### 一，创建张量"
   ]
  },
  {
   "cell_type": "markdown",
   "id": "2515fae3",
   "metadata": {},
   "source": [
    "张量创建的许多方法和numpy中创建array的方法很像。"
   ]
  },
  {
   "cell_type": "code",
   "execution_count": 1,
   "id": "eaf3f2ac",
   "metadata": {},
   "outputs": [],
   "source": [
    "import numpy as np\n",
    "import torch "
   ]
  },
  {
   "cell_type": "code",
   "execution_count": 2,
   "id": "1766c3e8",
   "metadata": {},
   "outputs": [
    {
     "name": "stdout",
     "output_type": "stream",
     "text": [
      "tensor([1., 2., 3.])\n"
     ]
    }
   ],
   "source": [
    "a = torch.tensor([1,2,3],dtype = torch.float)\n",
    "print(a)"
   ]
  },
  {
   "cell_type": "markdown",
   "id": "8784311b",
   "metadata": {},
   "source": [
    "```\n",
    "tensor([1., 2., 3.])\n",
    "```"
   ]
  },
  {
   "cell_type": "code",
   "execution_count": 4,
   "id": "0f23e9ce",
   "metadata": {},
   "outputs": [
    {
     "name": "stdout",
     "output_type": "stream",
     "text": [
      "tensor([1, 3, 5, 7, 9])\n"
     ]
    }
   ],
   "source": [
    "b = torch.arange(1,10,step = 2)\n",
    "print(b)"
   ]
  },
  {
   "cell_type": "markdown",
   "id": "2ced9f7e",
   "metadata": {},
   "source": [
    "```\n",
    "tensor([1, 3, 5, 7, 9])\n",
    "```"
   ]
  },
  {
   "cell_type": "code",
   "execution_count": 3,
   "id": "243af9fd",
   "metadata": {},
   "outputs": [
    {
     "name": "stdout",
     "output_type": "stream",
     "text": [
      "tensor([0.0000, 0.6978, 1.3956, 2.0933, 2.7911, 3.4889, 4.1867, 4.8844, 5.5822,\n",
      "        6.2800])\n"
     ]
    }
   ],
   "source": [
    "c = torch.linspace(0.0,2*3.14,10)\n",
    "print(c)"
   ]
  },
  {
   "cell_type": "markdown",
   "id": "e1b987d0",
   "metadata": {},
   "source": [
    "```\n",
    "tensor([0.0000, 0.6978, 1.3956, 2.0933, 2.7911, 3.4889, 4.1867, 4.8844, 5.5822,\n",
    "        6.2800])\n",
    "```"
   ]
  },
  {
   "cell_type": "code",
   "execution_count": 5,
   "id": "0d33db67",
   "metadata": {},
   "outputs": [
    {
     "name": "stdout",
     "output_type": "stream",
     "text": [
      "tensor([[0., 0., 0.],\n",
      "        [0., 0., 0.],\n",
      "        [0., 0., 0.]])\n"
     ]
    }
   ],
   "source": [
    "d = torch.zeros((3,3))\n",
    "print(d)"
   ]
  },
  {
   "cell_type": "markdown",
   "id": "177fa3e3",
   "metadata": {},
   "source": [
    "```\n",
    "tensor([[0., 0., 0.],\n",
    "        [0., 0., 0.],\n",
    "        [0., 0., 0.]])\n",
    "```"
   ]
  },
  {
   "cell_type": "code",
   "execution_count": 6,
   "id": "ab48a2fe",
   "metadata": {},
   "outputs": [
    {
     "name": "stdout",
     "output_type": "stream",
     "text": [
      "tensor([[1, 1, 1],\n",
      "        [1, 1, 1],\n",
      "        [1, 1, 1]], dtype=torch.int32)\n",
      "tensor([[0., 0., 0.],\n",
      "        [0., 0., 0.],\n",
      "        [0., 0., 0.]])\n"
     ]
    }
   ],
   "source": [
    "a = torch.ones((3,3),dtype = torch.int)\n",
    "b = torch.zeros_like(a,dtype = torch.float)\n",
    "print(a)\n",
    "print(b)"
   ]
  },
  {
   "cell_type": "markdown",
   "id": "a8fe25cf",
   "metadata": {},
   "source": [
    "```\n",
    "tensor([[1, 1, 1],\n",
    "        [1, 1, 1],\n",
    "        [1, 1, 1]], dtype=torch.int32)\n",
    "tensor([[0., 0., 0.],\n",
    "        [0., 0., 0.],\n",
    "        [0., 0., 0.]])\n",
    "```"
   ]
  },
  {
   "cell_type": "code",
   "execution_count": 7,
   "id": "758c253a",
   "metadata": {},
   "outputs": [
    {
     "name": "stdout",
     "output_type": "stream",
     "text": [
      "tensor([[5., 5., 5.],\n",
      "        [5., 5., 5.],\n",
      "        [5., 5., 5.]])\n"
     ]
    }
   ],
   "source": [
    "torch.fill_(b,5)\n",
    "print(b)"
   ]
  },
  {
   "cell_type": "markdown",
   "id": "6d24e289",
   "metadata": {},
   "source": [
    "```\n",
    "tensor([[5., 5., 5.],\n",
    "        [5., 5., 5.],\n",
    "        [5., 5., 5.]])\n",
    "```"
   ]
  },
  {
   "cell_type": "code",
   "execution_count": 11,
   "id": "14e2e2cd",
   "metadata": {},
   "outputs": [
    {
     "name": "stdout",
     "output_type": "stream",
     "text": [
      "tensor([4.9626, 7.6822, 0.8848, 1.3203, 3.0742])\n"
     ]
    }
   ],
   "source": [
    "#均匀随机分布\n",
    "torch.manual_seed(0)\n",
    "minval,maxval = 0,10\n",
    "a = minval + (maxval-minval)*torch.rand([5])\n",
    "print(a)"
   ]
  },
  {
   "cell_type": "markdown",
   "id": "8065bed4",
   "metadata": {},
   "source": [
    "```\n",
    "tensor([4.9626, 7.6822, 0.8848, 1.3203, 3.0742])\n",
    "```"
   ]
  },
  {
   "cell_type": "code",
   "execution_count": null,
   "id": "c801758a",
   "metadata": {},
   "outputs": [],
   "source": []
  },
  {
   "cell_type": "code",
   "execution_count": 12,
   "id": "8b5ccd13",
   "metadata": {},
   "outputs": [
    {
     "name": "stdout",
     "output_type": "stream",
     "text": [
      "tensor([[ 0.5507,  0.2704,  0.6472],\n",
      "        [ 0.2490, -0.3354,  0.4564],\n",
      "        [-0.6255,  0.4539, -1.3740]])\n"
     ]
    }
   ],
   "source": [
    "#正态分布随机\n",
    "b = torch.normal(mean = torch.zeros(3,3), std = torch.ones(3,3))\n",
    "print(b)"
   ]
  },
  {
   "cell_type": "markdown",
   "id": "e7e59d9c",
   "metadata": {},
   "source": [
    "```\n",
    "tensor([[-1.3836,  0.2459, -0.1312],\n",
    "        [-0.1785, -0.5959,  0.2739],\n",
    "        [ 0.5679, -0.6731, -1.2095]])\n",
    "\n",
    "```"
   ]
  },
  {
   "cell_type": "code",
   "execution_count": 13,
   "id": "11c77215",
   "metadata": {},
   "outputs": [
    {
     "name": "stdout",
     "output_type": "stream",
     "text": [
      "tensor([[16.2371, -1.6612,  3.9163],\n",
      "        [ 7.4999,  1.5616,  4.0768],\n",
      "        [ 5.2128, -8.9407,  6.4601]])\n"
     ]
    }
   ],
   "source": [
    "#正态分布随机\n",
    "mean,std = 2,5\n",
    "c = std*torch.randn((3,3))+mean\n",
    "print(c)"
   ]
  },
  {
   "cell_type": "markdown",
   "id": "5a1e1ee1",
   "metadata": {},
   "source": [
    "```\n",
    "tensor([[  8.7204,  13.9161,  -0.8323],\n",
    "        [ -3.7681, -10.5115,   6.3778],\n",
    "        [-11.3628,   1.8433,   4.4939]])\n",
    "```"
   ]
  },
  {
   "cell_type": "code",
   "execution_count": 14,
   "id": "9a3a28da",
   "metadata": {},
   "outputs": [
    {
     "name": "stdout",
     "output_type": "stream",
     "text": [
      "tensor([ 3, 17,  9, 19,  1, 18,  4, 13, 15, 12,  0, 16,  7, 11,  2,  5,  8, 10,\n",
      "         6, 14])\n"
     ]
    }
   ],
   "source": [
    "#整数随机排列\n",
    "d = torch.randperm(20)\n",
    "print(d)"
   ]
  },
  {
   "cell_type": "markdown",
   "id": "9898b111",
   "metadata": {},
   "source": [
    "```\n",
    "tensor([ 5, 15, 19, 10,  7, 17,  0,  4, 12, 16, 14, 13,  1,  3,  9,  6, 18,  2,\n",
    "         8, 11])\n",
    "```"
   ]
  },
  {
   "cell_type": "code",
   "execution_count": 15,
   "id": "bdee381f",
   "metadata": {},
   "outputs": [
    {
     "name": "stdout",
     "output_type": "stream",
     "text": [
      "tensor([[1., 0., 0.],\n",
      "        [0., 1., 0.],\n",
      "        [0., 0., 1.]])\n",
      "tensor([[1, 0, 0],\n",
      "        [0, 2, 0],\n",
      "        [0, 0, 3]])\n"
     ]
    }
   ],
   "source": [
    "#特殊矩阵\n",
    "I = torch.eye(3,3) #单位矩阵\n",
    "print(I)\n",
    "t = torch.diag(torch.tensor([1,2,3])) #对角矩阵\n",
    "print(t)\n"
   ]
  },
  {
   "cell_type": "markdown",
   "id": "88741b26",
   "metadata": {},
   "source": [
    "```\n",
    "tensor([[1., 0., 0.],\n",
    "        [0., 1., 0.],\n",
    "        [0., 0., 1.]])\n",
    "tensor([[1, 0, 0],\n",
    "        [0, 2, 0],\n",
    "        [0, 0, 3]])\n",
    "```"
   ]
  },
  {
   "cell_type": "code",
   "execution_count": null,
   "id": "dd3c3c18",
   "metadata": {},
   "outputs": [],
   "source": []
  },
  {
   "cell_type": "markdown",
   "id": "d9f98220",
   "metadata": {},
   "source": [
    "### 二 ，索引切片"
   ]
  },
  {
   "cell_type": "markdown",
   "id": "4b2bad28",
   "metadata": {},
   "source": [
    "张量的索引切片方式和numpy几乎是一样的。切片时支持缺省参数和省略号。\n",
    "\n",
    "可以通过索引和切片对部分元素进行修改。\n",
    "\n",
    "此外，对于不规则的切片提取,可以使用torch.index_select, torch.masked_select, torch.take\n",
    "\n",
    "如果要通过修改张量的某些元素得到新的张量，可以使用torch.where,torch.masked_fill,torch.index_fill"
   ]
  },
  {
   "cell_type": "code",
   "execution_count": null,
   "id": "e3ba1406",
   "metadata": {},
   "outputs": [],
   "source": []
  },
  {
   "cell_type": "code",
   "execution_count": 17,
   "id": "ba5e9d3e",
   "metadata": {},
   "outputs": [
    {
     "name": "stdout",
     "output_type": "stream",
     "text": [
      "tensor([[4, 7, 0, 1, 3],\n",
      "        [6, 4, 8, 4, 6],\n",
      "        [3, 4, 0, 1, 2],\n",
      "        [5, 6, 8, 1, 2],\n",
      "        [6, 9, 3, 8, 4]], dtype=torch.int32)\n"
     ]
    }
   ],
   "source": [
    "#均匀随机分布\n",
    "torch.manual_seed(0)\n",
    "minval,maxval = 0,10\n",
    "t = torch.floor(minval + (maxval-minval)*torch.rand([5,5])).int()\n",
    "print(t)"
   ]
  },
  {
   "cell_type": "markdown",
   "id": "5a9bfe93",
   "metadata": {},
   "source": [
    "```\n",
    "tensor([[4, 7, 0, 1, 3],\n",
    "        [6, 4, 8, 4, 6],\n",
    "        [3, 4, 0, 1, 2],\n",
    "        [5, 6, 8, 1, 2],\n",
    "        [6, 9, 3, 8, 4]], dtype=torch.int32)\n",
    "```"
   ]
  },
  {
   "cell_type": "code",
   "execution_count": null,
   "id": "fa666c91",
   "metadata": {},
   "outputs": [],
   "source": [
    "#第0行\n",
    "print(t[0])"
   ]
  },
  {
   "cell_type": "markdown",
   "id": "d3792f50",
   "metadata": {},
   "source": [
    "```\n",
    "tensor([4, 7, 0, 1, 3], dtype=torch.int32)\n",
    "```"
   ]
  },
  {
   "cell_type": "code",
   "execution_count": null,
   "id": "24fc9191",
   "metadata": {},
   "outputs": [],
   "source": [
    "#倒数第一行\n",
    "print(t[-1])"
   ]
  },
  {
   "cell_type": "markdown",
   "id": "4fbefb8f",
   "metadata": {},
   "source": [
    "```\n",
    "tensor([6, 9, 3, 8, 4], dtype=torch.int32)\n",
    "```"
   ]
  },
  {
   "cell_type": "code",
   "execution_count": null,
   "id": "daa8d4d8",
   "metadata": {},
   "outputs": [],
   "source": [
    "#第1行第3列\n",
    "print(t[1,3])\n",
    "print(t[1][3])"
   ]
  },
  {
   "cell_type": "markdown",
   "id": "18dcae2b",
   "metadata": {},
   "source": [
    "```\n",
    "tensor(4, dtype=torch.int32)\n",
    "tensor(4, dtype=torch.int32)\n",
    "```"
   ]
  },
  {
   "cell_type": "code",
   "execution_count": 18,
   "id": "89863ce6",
   "metadata": {},
   "outputs": [
    {
     "name": "stdout",
     "output_type": "stream",
     "text": [
      "tensor([[6, 4, 8, 4, 6],\n",
      "        [3, 4, 0, 1, 2],\n",
      "        [5, 6, 8, 1, 2]], dtype=torch.int32)\n"
     ]
    }
   ],
   "source": [
    "#第1行至第3行\n",
    "print(t[1:4,:])"
   ]
  },
  {
   "cell_type": "markdown",
   "id": "db19bfb0",
   "metadata": {},
   "source": [
    "```\n",
    "tensor([[6, 4, 8, 4, 6],\n",
    "        [3, 4, 0, 1, 2],\n",
    "        [5, 6, 8, 1, 2]], dtype=torch.int32)\n",
    "```"
   ]
  },
  {
   "cell_type": "code",
   "execution_count": null,
   "id": "d26e110a",
   "metadata": {},
   "outputs": [],
   "source": [
    "#第1行至最后一行，第0列到最后一列每隔两列取一列\n",
    "print(t[1:4,:4:2])"
   ]
  },
  {
   "cell_type": "markdown",
   "id": "3b77ec74",
   "metadata": {},
   "source": [
    "```\n",
    "tensor([[6, 8],\n",
    "        [3, 0],\n",
    "        [5, 8]], dtype=torch.int32)\n",
    "```"
   ]
  },
  {
   "cell_type": "code",
   "execution_count": 19,
   "id": "de3894eb",
   "metadata": {},
   "outputs": [
    {
     "data": {
      "text/plain": [
       "tensor([[1., 2.],\n",
       "        [0., 0.]], requires_grad=True)"
      ]
     },
     "execution_count": 19,
     "metadata": {},
     "output_type": "execute_result"
    }
   ],
   "source": [
    "#可以使用索引和切片修改部分元素\n",
    "x = torch.tensor([[1,2],[3,4]],dtype = torch.float32,requires_grad=True)\n",
    "x.data[1,:] = torch.tensor([0.0,0.0])\n",
    "x"
   ]
  },
  {
   "cell_type": "markdown",
   "id": "f0018e87",
   "metadata": {},
   "source": [
    "```\n",
    "tensor([[1., 2.],\n",
    "        [0., 0.]], requires_grad=True)\n",
    "```"
   ]
  },
  {
   "cell_type": "code",
   "execution_count": 25,
   "id": "4d77bcb7",
   "metadata": {},
   "outputs": [
    {
     "name": "stdout",
     "output_type": "stream",
     "text": [
      "tensor([[[ 0,  1,  2],\n",
      "         [ 3,  4,  5],\n",
      "         [ 6,  7,  8]],\n",
      "\n",
      "        [[ 9, 10, 11],\n",
      "         [12, 13, 14],\n",
      "         [15, 16, 17]],\n",
      "\n",
      "        [[18, 19, 20],\n",
      "         [21, 22, 23],\n",
      "         [24, 25, 26]]])\n"
     ]
    }
   ],
   "source": [
    "a = torch.arange(27).view(3,3,3)\n",
    "print(a)"
   ]
  },
  {
   "cell_type": "markdown",
   "id": "a373136c",
   "metadata": {},
   "source": [
    "```\n",
    "tensor([[[ 0,  1,  2],\n",
    "         [ 3,  4,  5],\n",
    "         [ 6,  7,  8]],\n",
    "\n",
    "        [[ 9, 10, 11],\n",
    "         [12, 13, 14],\n",
    "         [15, 16, 17]],\n",
    "\n",
    "        [[18, 19, 20],\n",
    "         [21, 22, 23],\n",
    "         [24, 25, 26]]])\n",
    "```"
   ]
  },
  {
   "cell_type": "code",
   "execution_count": 26,
   "id": "9f7f7be6",
   "metadata": {},
   "outputs": [
    {
     "name": "stdout",
     "output_type": "stream",
     "text": [
      "tensor([[ 1,  4,  7],\n",
      "        [10, 13, 16],\n",
      "        [19, 22, 25]])\n"
     ]
    }
   ],
   "source": [
    "#省略号可以表示多个冒号\n",
    "print(a[...,1])"
   ]
  },
  {
   "cell_type": "markdown",
   "id": "a8704174",
   "metadata": {},
   "source": [
    "```\n",
    "tensor([[ 1,  4,  7],\n",
    "        [10, 13, 16],\n",
    "        [19, 22, 25]])\n",
    "```"
   ]
  },
  {
   "cell_type": "markdown",
   "id": "323ff85e",
   "metadata": {},
   "source": [
    "以上切片方式相对规则，对于不规则的切片提取,可以使用torch.index_select, torch.take, torch.gather, torch.masked_select.\n",
    "\n",
    "考虑班级成绩册的例子，有4个班级，每个班级10个学生，每个学生7门科目成绩。可以用一个4×10×7的张量来表示。\n"
   ]
  },
  {
   "cell_type": "code",
   "execution_count": 29,
   "id": "311518d4",
   "metadata": {},
   "outputs": [
    {
     "name": "stdout",
     "output_type": "stream",
     "text": [
      "tensor([[[24, 60, 68, 89, 88, 42,  5],\n",
      "         [ 4, 96, 72, 71,  6, 96, 97],\n",
      "         [95,  7, 31, 15, 97, 28, 27],\n",
      "         [76, 26, 25, 45, 45, 11, 91],\n",
      "         [27, 67, 93, 75, 57, 92, 56],\n",
      "         [26, 97, 61,  1, 35, 15, 93],\n",
      "         [41,  4, 46, 81, 62, 65, 54],\n",
      "         [68, 37, 30,  3, 12, 71, 20],\n",
      "         [57, 65, 53, 17, 97, 20, 91],\n",
      "         [10, 37, 77, 29, 92, 15,  8]],\n",
      "\n",
      "        [[27, 58, 96, 26, 67, 37, 39],\n",
      "         [86, 11, 55, 97, 43, 88, 34],\n",
      "         [90,  1, 42, 41, 66, 69, 88],\n",
      "         [42, 48, 84, 36, 93, 16, 44],\n",
      "         [47, 72, 84, 42,  8, 74, 64],\n",
      "         [70, 19, 82, 97, 54,  3, 85],\n",
      "         [12, 61, 57, 26, 67,  5, 61],\n",
      "         [18, 44, 56, 92, 26, 82, 43],\n",
      "         [26,  6,  4, 98, 37, 52, 63],\n",
      "         [83, 92, 90, 12, 41, 20, 21]],\n",
      "\n",
      "        [[61, 96,  9, 80, 24, 40, 89],\n",
      "         [38, 54, 15, 92, 43, 13, 64],\n",
      "         [14, 10, 53, 89, 35, 73, 92],\n",
      "         [83, 23, 44, 34,  9, 50, 87],\n",
      "         [92, 54, 61, 28, 87, 29, 15],\n",
      "         [57, 79,  4, 95, 67, 14, 39],\n",
      "         [93, 11, 35, 66,  6, 77, 76],\n",
      "         [81, 18, 99, 20, 99,  2,  5],\n",
      "         [80, 55, 52, 22, 29, 35,  1],\n",
      "         [52, 58, 49, 66, 97, 63, 31]],\n",
      "\n",
      "        [[29, 18, 15, 41, 41, 72, 28],\n",
      "         [89, 14, 50, 94, 99, 21, 58],\n",
      "         [55, 26, 32, 63, 15, 58, 71],\n",
      "         [30, 91, 46, 72, 99, 34, 77],\n",
      "         [35, 42, 41, 49, 31, 61, 51],\n",
      "         [81, 39, 55, 31,  8, 70, 56],\n",
      "         [29, 33, 63, 40, 82, 52, 68],\n",
      "         [71, 37, 71, 86, 52, 59, 51],\n",
      "         [84, 28, 23, 71,  6, 50, 27],\n",
      "         [83,  3, 80, 99, 60, 46, 99]]], dtype=torch.int32)\n"
     ]
    }
   ],
   "source": [
    "minval=0\n",
    "maxval=100\n",
    "scores = torch.floor(minval + (maxval-minval)*torch.rand([4,10,7])).int()\n",
    "print(scores)"
   ]
  },
  {
   "cell_type": "markdown",
   "id": "aeca595f",
   "metadata": {},
   "source": [
    "```\n",
    "tensor([[[55, 95,  3, 18, 37, 30, 93],\n",
    "         [17, 26, 15,  3, 20, 92, 72],\n",
    "         [74, 52, 24, 58,  3, 13, 24],\n",
    "         [81, 79, 27, 48, 81, 99, 69],\n",
    "         [56, 83, 20, 59, 11, 15, 24],\n",
    "         [72, 70, 20, 65, 77, 43, 51],\n",
    "         [61, 81, 98, 11, 31, 69, 91],\n",
    "         [93, 94, 59,  6, 54, 18,  3],\n",
    "         [94, 88,  0, 59, 41, 41, 27],\n",
    "         [69, 20, 68, 75, 85, 68,  0]],\n",
    "\n",
    "        [[17, 74, 60, 10, 21, 97, 83],\n",
    "         [28, 37,  2, 49, 12, 11, 47],\n",
    "         [57, 29, 79, 19, 95, 84,  7],\n",
    "         [37, 52, 57, 61, 69, 52, 25],\n",
    "         [73,  2, 20, 37, 25, 32,  9],\n",
    "         [39, 60, 17, 47, 85, 44, 51],\n",
    "         [45, 60, 81, 97, 81, 97, 46],\n",
    "         [ 5, 26, 84, 49, 25, 11,  3],\n",
    "         [ 7, 39, 77, 77,  1, 81, 10],\n",
    "         [39, 29, 40, 40,  5,  6, 42]],\n",
    "\n",
    "        [[50, 27, 68,  4, 46, 93, 29],\n",
    "         [95, 68,  4, 81, 44, 27, 89],\n",
    "         [ 9, 55, 39, 85, 63, 74, 67],\n",
    "         [37, 39,  8, 77, 89, 84, 14],\n",
    "         [52, 14, 22, 20, 67, 20, 48],\n",
    "         [52, 82, 12, 15, 20, 84, 32],\n",
    "         [92, 68, 56, 49, 40, 56, 38],\n",
    "         [49, 56, 10, 23, 90,  9, 46],\n",
    "         [99, 68, 51,  6, 74, 14, 35],\n",
    "         [33, 42, 50, 91, 56, 94, 80]],\n",
    "\n",
    "        [[18, 72, 14, 28, 64, 66, 87],\n",
    "         [33, 50, 75,  1, 86,  8, 50],\n",
    "         [41, 23, 56, 91, 35, 20, 31],\n",
    "         [ 0, 72, 25, 16, 21, 78, 76],\n",
    "         [88, 68, 33, 36, 64, 91, 63],\n",
    "         [26, 26,  2, 60, 21,  5, 93],\n",
    "         [17, 44, 64, 51, 16,  9, 89],\n",
    "         [58, 91, 33, 64, 38, 47, 19],\n",
    "         [66, 65, 48, 38, 19, 84, 12],\n",
    "         [70, 33, 25, 58, 24, 61, 59]]], dtype=torch.int32)\n",
    "```"
   ]
  },
  {
   "cell_type": "code",
   "execution_count": 32,
   "id": "247c432a",
   "metadata": {},
   "outputs": [
    {
     "data": {
      "text/plain": [
       "tensor([[[24, 60, 68, 89, 88, 42,  5],\n",
       "         [26, 97, 61,  1, 35, 15, 93],\n",
       "         [10, 37, 77, 29, 92, 15,  8]],\n",
       "\n",
       "        [[27, 58, 96, 26, 67, 37, 39],\n",
       "         [70, 19, 82, 97, 54,  3, 85],\n",
       "         [83, 92, 90, 12, 41, 20, 21]],\n",
       "\n",
       "        [[61, 96,  9, 80, 24, 40, 89],\n",
       "         [57, 79,  4, 95, 67, 14, 39],\n",
       "         [52, 58, 49, 66, 97, 63, 31]],\n",
       "\n",
       "        [[29, 18, 15, 41, 41, 72, 28],\n",
       "         [81, 39, 55, 31,  8, 70, 56],\n",
       "         [83,  3, 80, 99, 60, 46, 99]]], dtype=torch.int32)"
      ]
     },
     "execution_count": 32,
     "metadata": {},
     "output_type": "execute_result"
    }
   ],
   "source": [
    "#抽取每个班级第0个学生，第5个学生，第9个学生的全部成绩\n",
    "torch.index_select(scores,dim = 1,index = torch.tensor([0,5,9]))"
   ]
  },
  {
   "cell_type": "markdown",
   "id": "7d797296",
   "metadata": {},
   "source": [
    "```\n",
    "tensor([[[55, 95,  3, 18, 37, 30, 93],\n",
    "         [72, 70, 20, 65, 77, 43, 51],\n",
    "         [69, 20, 68, 75, 85, 68,  0]],\n",
    "\n",
    "        [[17, 74, 60, 10, 21, 97, 83],\n",
    "         [39, 60, 17, 47, 85, 44, 51],\n",
    "         [39, 29, 40, 40,  5,  6, 42]],\n",
    "\n",
    "        [[50, 27, 68,  4, 46, 93, 29],\n",
    "         [52, 82, 12, 15, 20, 84, 32],\n",
    "         [33, 42, 50, 91, 56, 94, 80]],\n",
    "\n",
    "        [[18, 72, 14, 28, 64, 66, 87],\n",
    "         [26, 26,  2, 60, 21,  5, 93],\n",
    "         [70, 33, 25, 58, 24, 61, 59]]], dtype=torch.int32)\n",
    "```"
   ]
  },
  {
   "cell_type": "code",
   "execution_count": null,
   "id": "8e6e4b72",
   "metadata": {},
   "outputs": [],
   "source": [
    "#抽取每个班级第0个学生，第5个学生，第9个学生的第1门课程，第3门课程，第6门课程成绩\n",
    "q = torch.index_select(torch.index_select(scores,dim = 1,index = torch.tensor([0,5,9]))\n",
    "                   ,dim=2,index = torch.tensor([1,3,6]))\n",
    "print(q)"
   ]
  },
  {
   "cell_type": "markdown",
   "id": "fdb65876",
   "metadata": {},
   "source": [
    "```\n",
    "tensor([[[95, 18, 93],\n",
    "         [70, 65, 51],\n",
    "         [20, 75,  0]],\n",
    "\n",
    "        [[74, 10, 83],\n",
    "         [60, 47, 51],\n",
    "         [29, 40, 42]],\n",
    "\n",
    "        [[27,  4, 29],\n",
    "         [82, 15, 32],\n",
    "         [42, 91, 80]],\n",
    "\n",
    "        [[72, 28, 87],\n",
    "         [26, 60, 93],\n",
    "         [33, 58, 59]]], dtype=torch.int32)\n",
    "```"
   ]
  },
  {
   "cell_type": "code",
   "execution_count": 36,
   "id": "97c1ce96",
   "metadata": {},
   "outputs": [
    {
     "data": {
      "text/plain": [
       "tensor([24, 54, 99], dtype=torch.int32)"
      ]
     },
     "execution_count": 36,
     "metadata": {},
     "output_type": "execute_result"
    }
   ],
   "source": [
    "#抽取第0个班级第0个学生的第0门课程，第2个班级的第4个学生的第1门课程，第3个班级的第9个学生第6门课程成绩\n",
    "#take将输入看成一维数组，输出和index同形状\n",
    "s = torch.take(scores,torch.tensor([0*10*7+0,2*10*7+4*7+1,3*10*7+9*7+6]))\n",
    "s"
   ]
  },
  {
   "cell_type": "markdown",
   "id": "48083f11",
   "metadata": {},
   "source": [
    "```\n",
    "<tf.Tensor: shape=(3, 7), dtype=int32, numpy=\n",
    "array([[52, 82, 66, 55, 17, 86, 14],\n",
    "       [99, 94, 46, 70,  1, 63, 41],\n",
    "       [46, 83, 70, 80, 90, 85, 17]], dtype=int32)>\n",
    "```"
   ]
  },
  {
   "cell_type": "code",
   "execution_count": 33,
   "id": "4eb1cc26",
   "metadata": {},
   "outputs": [
    {
     "name": "stdout",
     "output_type": "stream",
     "text": [
      "tensor([89, 88, 96, 96, 97, 95, 97, 91, 93, 92, 97, 93, 81, 97, 91, 92, 96, 86,\n",
      "        97, 88, 90, 88, 84, 93, 84, 82, 97, 85, 92, 82, 98, 83, 92, 90, 96, 80,\n",
      "        89, 92, 89, 92, 83, 87, 92, 87, 95, 93, 81, 99, 99, 80, 97, 89, 94, 99,\n",
      "        91, 99, 81, 82, 86, 84, 83, 80, 99, 99], dtype=torch.int32)\n"
     ]
    }
   ],
   "source": [
    "#抽取分数大于等于80分的分数（布尔索引）\n",
    "#结果是1维张量\n",
    "g = torch.masked_select(scores,scores>=80)\n",
    "print(g)"
   ]
  },
  {
   "cell_type": "markdown",
   "id": "0493bd78",
   "metadata": {},
   "source": [
    "以上这些方法仅能提取张量的部分元素值，但不能更改张量的部分元素值得到新的张量。\n",
    "\n",
    "如果要通过修改张量的部分元素值得到新的张量，可以使用torch.where,torch.index_fill 和 torch.masked_fill\n",
    "\n",
    "torch.where可以理解为if的张量版本。\n",
    "\n",
    "torch.index_fill的选取元素逻辑和torch.index_select相同。\n",
    "\n",
    "torch.masked_fill的选取元素逻辑和torch.masked_select相同。\n"
   ]
  },
  {
   "cell_type": "code",
   "execution_count": 37,
   "id": "cab0b5df",
   "metadata": {},
   "outputs": [
    {
     "name": "stdout",
     "output_type": "stream",
     "text": [
      "tensor([[[0, 0, 1, 1, 1, 0, 0],\n",
      "         [0, 1, 1, 1, 0, 1, 1],\n",
      "         [1, 0, 0, 0, 1, 0, 0],\n",
      "         [1, 0, 0, 0, 0, 0, 1],\n",
      "         [0, 1, 1, 1, 0, 1, 0],\n",
      "         [0, 1, 1, 0, 0, 0, 1],\n",
      "         [0, 0, 0, 1, 1, 1, 0],\n",
      "         [1, 0, 0, 0, 0, 1, 0],\n",
      "         [0, 1, 0, 0, 1, 0, 1],\n",
      "         [0, 0, 1, 0, 1, 0, 0]],\n",
      "\n",
      "        [[0, 0, 1, 0, 1, 0, 0],\n",
      "         [1, 0, 0, 1, 0, 1, 0],\n",
      "         [1, 0, 0, 0, 1, 1, 1],\n",
      "         [0, 0, 1, 0, 1, 0, 0],\n",
      "         [0, 1, 1, 0, 0, 1, 1],\n",
      "         [1, 0, 1, 1, 0, 0, 1],\n",
      "         [0, 1, 0, 0, 1, 0, 1],\n",
      "         [0, 0, 0, 1, 0, 1, 0],\n",
      "         [0, 0, 0, 1, 0, 0, 1],\n",
      "         [1, 1, 1, 0, 0, 0, 0]],\n",
      "\n",
      "        [[1, 1, 0, 1, 0, 0, 1],\n",
      "         [0, 0, 0, 1, 0, 0, 1],\n",
      "         [0, 0, 0, 1, 0, 1, 1],\n",
      "         [1, 0, 0, 0, 0, 0, 1],\n",
      "         [1, 0, 1, 0, 1, 0, 0],\n",
      "         [0, 1, 0, 1, 1, 0, 0],\n",
      "         [1, 0, 0, 1, 0, 1, 1],\n",
      "         [1, 0, 1, 0, 1, 0, 0],\n",
      "         [1, 0, 0, 0, 0, 0, 0],\n",
      "         [0, 0, 0, 1, 1, 1, 0]],\n",
      "\n",
      "        [[0, 0, 0, 0, 0, 1, 0],\n",
      "         [1, 0, 0, 1, 1, 0, 0],\n",
      "         [0, 0, 0, 1, 0, 0, 1],\n",
      "         [0, 1, 0, 1, 1, 0, 1],\n",
      "         [0, 0, 0, 0, 0, 1, 0],\n",
      "         [1, 0, 0, 0, 0, 1, 0],\n",
      "         [0, 0, 1, 0, 1, 0, 1],\n",
      "         [1, 0, 1, 1, 0, 0, 0],\n",
      "         [1, 0, 0, 1, 0, 0, 0],\n",
      "         [1, 0, 1, 1, 0, 0, 1]]])\n"
     ]
    }
   ],
   "source": [
    "#如果分数大于60分，赋值成1，否则赋值成0\n",
    "ifpass = torch.where(scores>60,torch.tensor(1),torch.tensor(0))\n",
    "print(ifpass)"
   ]
  },
  {
   "cell_type": "code",
   "execution_count": 42,
   "id": "0592a0f2",
   "metadata": {},
   "outputs": [
    {
     "data": {
      "text/plain": [
       "tensor([[[ True, False, False, False, False,  True,  True],\n",
       "         [ True, False, False, False,  True, False, False],\n",
       "         [False,  True,  True,  True, False,  True,  True],\n",
       "         [False,  True,  True,  True,  True,  True, False],\n",
       "         [ True, False, False, False, False, False, False],\n",
       "         [ True, False, False,  True,  True,  True, False],\n",
       "         [ True,  True,  True, False, False, False, False],\n",
       "         [False,  True,  True,  True,  True, False,  True],\n",
       "         [False, False, False,  True, False,  True, False],\n",
       "         [ True,  True, False,  True, False,  True,  True]],\n",
       "\n",
       "        [[ True, False, False,  True, False,  True,  True],\n",
       "         [False,  True, False, False,  True, False,  True],\n",
       "         [False,  True,  True,  True, False, False, False],\n",
       "         [ True,  True, False,  True, False,  True,  True],\n",
       "         [ True, False, False,  True,  True, False, False],\n",
       "         [False,  True, False, False, False,  True, False],\n",
       "         [ True, False, False,  True, False,  True, False],\n",
       "         [ True,  True, False, False,  True, False,  True],\n",
       "         [ True,  True,  True, False,  True, False, False],\n",
       "         [False, False, False,  True,  True,  True,  True]],\n",
       "\n",
       "        [[False, False,  True, False,  True,  True, False],\n",
       "         [ True, False,  True, False,  True,  True, False],\n",
       "         [ True,  True, False, False,  True, False, False],\n",
       "         [False,  True,  True,  True,  True, False, False],\n",
       "         [False, False, False,  True, False,  True,  True],\n",
       "         [False, False,  True, False, False,  True,  True],\n",
       "         [False,  True,  True, False,  True, False, False],\n",
       "         [False,  True, False,  True, False,  True,  True],\n",
       "         [False, False, False,  True,  True,  True,  True],\n",
       "         [False, False,  True, False, False, False,  True]],\n",
       "\n",
       "        [[ True,  True,  True,  True,  True, False,  True],\n",
       "         [False,  True, False, False, False,  True, False],\n",
       "         [False,  True,  True, False,  True, False, False],\n",
       "         [ True, False,  True, False, False,  True, False],\n",
       "         [ True,  True,  True,  True,  True, False, False],\n",
       "         [False,  True, False,  True,  True, False, False],\n",
       "         [ True,  True, False,  True, False, False, False],\n",
       "         [False,  True, False, False, False, False, False],\n",
       "         [False,  True,  True, False,  True, False,  True],\n",
       "         [False,  True, False, False, False,  True, False]]])"
      ]
     },
     "execution_count": 42,
     "metadata": {},
     "output_type": "execute_result"
    }
   ],
   "source": []
  },
  {
   "cell_type": "code",
   "execution_count": 38,
   "id": "42178e82",
   "metadata": {},
   "outputs": [
    {
     "data": {
      "text/plain": [
       "tensor([[[100, 100, 100, 100, 100, 100, 100],\n",
       "         [  4,  96,  72,  71,   6,  96,  97],\n",
       "         [ 95,   7,  31,  15,  97,  28,  27],\n",
       "         [ 76,  26,  25,  45,  45,  11,  91],\n",
       "         [ 27,  67,  93,  75,  57,  92,  56],\n",
       "         [100, 100, 100, 100, 100, 100, 100],\n",
       "         [ 41,   4,  46,  81,  62,  65,  54],\n",
       "         [ 68,  37,  30,   3,  12,  71,  20],\n",
       "         [ 57,  65,  53,  17,  97,  20,  91],\n",
       "         [100, 100, 100, 100, 100, 100, 100]],\n",
       "\n",
       "        [[100, 100, 100, 100, 100, 100, 100],\n",
       "         [ 86,  11,  55,  97,  43,  88,  34],\n",
       "         [ 90,   1,  42,  41,  66,  69,  88],\n",
       "         [ 42,  48,  84,  36,  93,  16,  44],\n",
       "         [ 47,  72,  84,  42,   8,  74,  64],\n",
       "         [100, 100, 100, 100, 100, 100, 100],\n",
       "         [ 12,  61,  57,  26,  67,   5,  61],\n",
       "         [ 18,  44,  56,  92,  26,  82,  43],\n",
       "         [ 26,   6,   4,  98,  37,  52,  63],\n",
       "         [100, 100, 100, 100, 100, 100, 100]],\n",
       "\n",
       "        [[100, 100, 100, 100, 100, 100, 100],\n",
       "         [ 38,  54,  15,  92,  43,  13,  64],\n",
       "         [ 14,  10,  53,  89,  35,  73,  92],\n",
       "         [ 83,  23,  44,  34,   9,  50,  87],\n",
       "         [ 92,  54,  61,  28,  87,  29,  15],\n",
       "         [100, 100, 100, 100, 100, 100, 100],\n",
       "         [ 93,  11,  35,  66,   6,  77,  76],\n",
       "         [ 81,  18,  99,  20,  99,   2,   5],\n",
       "         [ 80,  55,  52,  22,  29,  35,   1],\n",
       "         [100, 100, 100, 100, 100, 100, 100]],\n",
       "\n",
       "        [[100, 100, 100, 100, 100, 100, 100],\n",
       "         [ 89,  14,  50,  94,  99,  21,  58],\n",
       "         [ 55,  26,  32,  63,  15,  58,  71],\n",
       "         [ 30,  91,  46,  72,  99,  34,  77],\n",
       "         [ 35,  42,  41,  49,  31,  61,  51],\n",
       "         [100, 100, 100, 100, 100, 100, 100],\n",
       "         [ 29,  33,  63,  40,  82,  52,  68],\n",
       "         [ 71,  37,  71,  86,  52,  59,  51],\n",
       "         [ 84,  28,  23,  71,   6,  50,  27],\n",
       "         [100, 100, 100, 100, 100, 100, 100]]], dtype=torch.int32)"
      ]
     },
     "execution_count": 38,
     "metadata": {},
     "output_type": "execute_result"
    }
   ],
   "source": [
    "#将每个班级第0个学生，第5个学生，第9个学生的全部成绩赋值成满分\n",
    "torch.index_fill(scores,dim = 1,index = torch.tensor([0,5,9]),value = 100)\n",
    "#等价于 scores.index_fill(dim = 1,index = torch.tensor([0,5,9]),value = 100)"
   ]
  },
  {
   "cell_type": "code",
   "execution_count": 39,
   "id": "faeea231",
   "metadata": {},
   "outputs": [
    {
     "data": {
      "text/plain": [
       "tensor([[[60, 60, 68, 89, 88, 60, 60],\n",
       "         [60, 96, 72, 71, 60, 96, 97],\n",
       "         [95, 60, 60, 60, 97, 60, 60],\n",
       "         [76, 60, 60, 60, 60, 60, 91],\n",
       "         [60, 67, 93, 75, 60, 92, 60],\n",
       "         [60, 97, 61, 60, 60, 60, 93],\n",
       "         [60, 60, 60, 81, 62, 65, 60],\n",
       "         [68, 60, 60, 60, 60, 71, 60],\n",
       "         [60, 65, 60, 60, 97, 60, 91],\n",
       "         [60, 60, 77, 60, 92, 60, 60]],\n",
       "\n",
       "        [[60, 60, 96, 60, 67, 60, 60],\n",
       "         [86, 60, 60, 97, 60, 88, 60],\n",
       "         [90, 60, 60, 60, 66, 69, 88],\n",
       "         [60, 60, 84, 60, 93, 60, 60],\n",
       "         [60, 72, 84, 60, 60, 74, 64],\n",
       "         [70, 60, 82, 97, 60, 60, 85],\n",
       "         [60, 61, 60, 60, 67, 60, 61],\n",
       "         [60, 60, 60, 92, 60, 82, 60],\n",
       "         [60, 60, 60, 98, 60, 60, 63],\n",
       "         [83, 92, 90, 60, 60, 60, 60]],\n",
       "\n",
       "        [[61, 96, 60, 80, 60, 60, 89],\n",
       "         [60, 60, 60, 92, 60, 60, 64],\n",
       "         [60, 60, 60, 89, 60, 73, 92],\n",
       "         [83, 60, 60, 60, 60, 60, 87],\n",
       "         [92, 60, 61, 60, 87, 60, 60],\n",
       "         [60, 79, 60, 95, 67, 60, 60],\n",
       "         [93, 60, 60, 66, 60, 77, 76],\n",
       "         [81, 60, 99, 60, 99, 60, 60],\n",
       "         [80, 60, 60, 60, 60, 60, 60],\n",
       "         [60, 60, 60, 66, 97, 63, 60]],\n",
       "\n",
       "        [[60, 60, 60, 60, 60, 72, 60],\n",
       "         [89, 60, 60, 94, 99, 60, 60],\n",
       "         [60, 60, 60, 63, 60, 60, 71],\n",
       "         [60, 91, 60, 72, 99, 60, 77],\n",
       "         [60, 60, 60, 60, 60, 61, 60],\n",
       "         [81, 60, 60, 60, 60, 70, 60],\n",
       "         [60, 60, 63, 60, 82, 60, 68],\n",
       "         [71, 60, 71, 86, 60, 60, 60],\n",
       "         [84, 60, 60, 71, 60, 60, 60],\n",
       "         [83, 60, 80, 99, 60, 60, 99]]], dtype=torch.int32)"
      ]
     },
     "execution_count": 39,
     "metadata": {},
     "output_type": "execute_result"
    }
   ],
   "source": [
    "#将分数小于60分的分数赋值成60分\n",
    "b = torch.masked_fill(scores,scores<60,60)\n",
    "#等价于b = scores.masked_fill(scores<60,60)\n",
    "b"
   ]
  },
  {
   "cell_type": "code",
   "execution_count": null,
   "id": "00ac68a2",
   "metadata": {},
   "outputs": [],
   "source": []
  },
  {
   "cell_type": "markdown",
   "id": "a24ebb87",
   "metadata": {},
   "source": [
    "### 三，维度变换"
   ]
  },
  {
   "cell_type": "markdown",
   "id": "0fa10173",
   "metadata": {},
   "source": [
    "维度变换相关函数主要有 torch.reshape(或者调用张量的view方法), torch.squeeze, torch.unsqueeze, torch.transpose\n",
    "\n",
    "torch.reshape 可以改变张量的形状。\n",
    "\n",
    "torch.squeeze 可以减少维度。\n",
    "\n",
    "torch.unsqueeze 可以增加维度。\n",
    "\n",
    "torch.transpose 可以交换维度。\n"
   ]
  },
  {
   "cell_type": "code",
   "execution_count": 43,
   "id": "fb8fe57a",
   "metadata": {},
   "outputs": [
    {
     "name": "stdout",
     "output_type": "stream",
     "text": [
      "torch.Size([1, 3, 3, 2])\n",
      "tensor([[[[126, 195],\n",
      "          [ 22,  33],\n",
      "          [ 78, 161]],\n",
      "\n",
      "         [[124, 228],\n",
      "          [116, 161],\n",
      "          [ 88, 102]],\n",
      "\n",
      "         [[  5,  43],\n",
      "          [ 74, 132],\n",
      "          [177, 204]]]], dtype=torch.int32)\n"
     ]
    }
   ],
   "source": [
    "# 张量的view方法有时候会调用失败，可以使用reshape方法。\n",
    "\n",
    "torch.manual_seed(0)\n",
    "minval,maxval = 0,255\n",
    "a = (minval + (maxval-minval)*torch.rand([1,3,3,2])).int()\n",
    "print(a.shape)\n",
    "print(a)\n"
   ]
  },
  {
   "cell_type": "markdown",
   "id": "6635f2e1",
   "metadata": {},
   "source": [
    "```\n",
    "torch.Size([1, 3, 3, 2])\n",
    "tensor([[[[126, 195],\n",
    "          [ 22,  33],\n",
    "          [ 78, 161]],\n",
    "\n",
    "         [[124, 228],\n",
    "          [116, 161],\n",
    "          [ 88, 102]],\n",
    "\n",
    "         [[  5,  43],\n",
    "          [ 74, 132],\n",
    "          [177, 204]]]], dtype=torch.int32)\n",
    "```"
   ]
  },
  {
   "cell_type": "code",
   "execution_count": 44,
   "id": "661cc604",
   "metadata": {},
   "outputs": [
    {
     "name": "stdout",
     "output_type": "stream",
     "text": [
      "torch.Size([3, 6])\n",
      "tensor([[126, 195,  22,  33,  78, 161],\n",
      "        [124, 228, 116, 161,  88, 102],\n",
      "        [  5,  43,  74, 132, 177, 204]], dtype=torch.int32)\n"
     ]
    }
   ],
   "source": [
    "# 改成 （3,6）形状的张量\n",
    "b = a.view([3,6]) #torch.reshape(a,[3,6])\n",
    "print(b.shape)\n",
    "print(b)"
   ]
  },
  {
   "cell_type": "markdown",
   "id": "f5157607",
   "metadata": {},
   "source": [
    "```\n",
    "torch.Size([3, 6])\n",
    "tensor([[126, 195,  22,  33,  78, 161],\n",
    "        [124, 228, 116, 161,  88, 102],\n",
    "        [  5,  43,  74, 132, 177, 204]], dtype=torch.int32)\n",
    "```"
   ]
  },
  {
   "cell_type": "code",
   "execution_count": 45,
   "id": "c3bfc8dc",
   "metadata": {},
   "outputs": [
    {
     "name": "stdout",
     "output_type": "stream",
     "text": [
      "tensor([[[[126, 195],\n",
      "          [ 22,  33],\n",
      "          [ 78, 161]],\n",
      "\n",
      "         [[124, 228],\n",
      "          [116, 161],\n",
      "          [ 88, 102]],\n",
      "\n",
      "         [[  5,  43],\n",
      "          [ 74, 132],\n",
      "          [177, 204]]]], dtype=torch.int32)\n"
     ]
    }
   ],
   "source": [
    "# 改回成 [1,3,3,2] 形状的张量\n",
    "c = torch.reshape(b,[1,3,3,2]) # b.view([1,3,3,2]) \n",
    "print(c)"
   ]
  },
  {
   "cell_type": "markdown",
   "id": "be171911",
   "metadata": {},
   "source": [
    "```\n",
    "tensor([[[[126, 195],\n",
    "          [ 22,  33],\n",
    "          [ 78, 161]],\n",
    "\n",
    "         [[124, 228],\n",
    "          [116, 161],\n",
    "          [ 88, 102]],\n",
    "\n",
    "         [[  5,  43],\n",
    "          [ 74, 132],\n",
    "          [177, 204]]]], dtype=torch.int32)\n",
    "```"
   ]
  },
  {
   "cell_type": "code",
   "execution_count": null,
   "id": "b0733ff6",
   "metadata": {},
   "outputs": [],
   "source": []
  },
  {
   "cell_type": "markdown",
   "id": "0c0c7a96",
   "metadata": {},
   "source": [
    "如果张量在某个维度上只有一个元素，利用torch.squeeze可以消除这个维度。\n",
    "\n",
    "torch.unsqueeze的作用和torch.squeeze的作用相反。"
   ]
  },
  {
   "cell_type": "code",
   "execution_count": 51,
   "id": "378b0639",
   "metadata": {},
   "outputs": [
    {
     "name": "stdout",
     "output_type": "stream",
     "text": [
      "tensor([[1., 2.]])\n",
      "tensor([1., 2.])\n",
      "torch.Size([1, 2])\n",
      "torch.Size([2])\n"
     ]
    }
   ],
   "source": [
    "a = torch.tensor([[1.0,2.0]])\n",
    "s = torch.squeeze(s)\n",
    "print(a)\n",
    "print(s)\n",
    "print(a.shape)\n",
    "print(s.shape)\n"
   ]
  },
  {
   "cell_type": "markdown",
   "id": "ba063c83",
   "metadata": {},
   "source": [
    "```\n",
    "tensor([[1., 2.]])\n",
    "tensor([1., 2.])\n",
    "torch.Size([1, 2])\n",
    "torch.Size([2])\n",
    "```"
   ]
  },
  {
   "cell_type": "code",
   "execution_count": 49,
   "id": "50887b80",
   "metadata": {},
   "outputs": [
    {
     "name": "stdout",
     "output_type": "stream",
     "text": [
      "tensor([1., 2.])\n",
      "tensor([[1., 2.]])\n",
      "torch.Size([2])\n",
      "torch.Size([1, 2])\n"
     ]
    }
   ],
   "source": [
    "#在第0维插入长度为1的一个维度\n",
    "\n",
    "d = torch.unsqueeze(s,axis=0)  \n",
    "print(s)\n",
    "print(d)\n",
    "\n",
    "print(s.shape)\n",
    "print(d.shape)\n"
   ]
  },
  {
   "cell_type": "markdown",
   "id": "3a51b1ac",
   "metadata": {},
   "source": [
    "```\n",
    "tensor([1., 2.])\n",
    "tensor([[1., 2.]])\n",
    "torch.Size([2])\n",
    "torch.Size([1, 2])\n",
    "```"
   ]
  },
  {
   "cell_type": "markdown",
   "id": "3d0c69e1",
   "metadata": {},
   "source": [
    "torch.transpose可以交换张量的维度，torch.transpose常用于图片存储格式的变换上。\n",
    "\n",
    "如果是二维的矩阵，通常会调用矩阵的转置方法 matrix.t()，等价于 torch.transpose(matrix,0,1)。\n"
   ]
  },
  {
   "cell_type": "code",
   "execution_count": 54,
   "id": "cbf2e42e",
   "metadata": {},
   "outputs": [
    {
     "name": "stdout",
     "output_type": "stream",
     "text": [
      "torch.Size([100, 256, 256, 4])\n",
      "torch.Size([100, 4, 256, 256])\n"
     ]
    }
   ],
   "source": [
    "minval=0\n",
    "maxval=255\n",
    "# Batch,Height,Width,Channel\n",
    "data = torch.floor(minval + (maxval-minval)*torch.rand([100,256,256,4])).int()\n",
    "print(data.shape)\n",
    "\n",
    "# 转换成 Pytorch默认的图片格式 Batch,Channel,Height,Width \n",
    "# 需要交换两次\n",
    "data_t = torch.transpose(torch.transpose(data,1,2),1,3)\n",
    "print(data_t.shape)\n"
   ]
  },
  {
   "cell_type": "markdown",
   "id": "32cab949",
   "metadata": {},
   "source": [
    "```\n",
    "torch.Size([100, 256, 256, 4])\n",
    "torch.Size([100, 4, 256, 256])\n",
    "```"
   ]
  },
  {
   "cell_type": "code",
   "execution_count": 53,
   "id": "5232671a",
   "metadata": {},
   "outputs": [
    {
     "name": "stdout",
     "output_type": "stream",
     "text": [
      "tensor([[1, 2, 3],\n",
      "        [4, 5, 6]])\n",
      "tensor([[1, 4],\n",
      "        [2, 5],\n",
      "        [3, 6]])\n"
     ]
    }
   ],
   "source": [
    "matrix = torch.tensor([[1,2,3],[4,5,6]])\n",
    "print(matrix)\n",
    "print(matrix.t()) #等价于torch.transpose(matrix,0,1)"
   ]
  },
  {
   "cell_type": "markdown",
   "id": "1d4cff1a",
   "metadata": {},
   "source": [
    "```\n",
    "tensor([[1, 2, 3],\n",
    "        [4, 5, 6]])\n",
    "tensor([[1, 4],\n",
    "        [2, 5],\n",
    "        [3, 6]])\n",
    "```"
   ]
  },
  {
   "cell_type": "code",
   "execution_count": null,
   "id": "6b2d69d1",
   "metadata": {},
   "outputs": [],
   "source": []
  },
  {
   "cell_type": "markdown",
   "id": "628c8cc0",
   "metadata": {},
   "source": [
    "### 四，合并分割"
   ]
  },
  {
   "cell_type": "markdown",
   "id": "489643aa",
   "metadata": {},
   "source": [
    "可以用torch.cat方法和torch.stack方法将多个张量合并，可以用torch.split方法把一个张量分割成多个张量。\n",
    "\n",
    "torch.cat和torch.stack有略微的区别，torch.cat是连接，不会增加维度，而torch.stack是堆叠，会增加维度。\n"
   ]
  },
  {
   "cell_type": "code",
   "execution_count": 62,
   "id": "582ab154",
   "metadata": {},
   "outputs": [
    {
     "name": "stdout",
     "output_type": "stream",
     "text": [
      "torch.Size([2, 2])\n",
      "torch.Size([6, 2])\n",
      "tensor([[ 1.,  2.],\n",
      "        [ 3.,  4.],\n",
      "        [ 5.,  6.],\n",
      "        [ 7.,  8.],\n",
      "        [ 9., 10.],\n",
      "        [11., 12.]])\n"
     ]
    }
   ],
   "source": [
    "a = torch.tensor([[1.0,2.0],[3.0,4.0]])\n",
    "b = torch.tensor([[5.0,6.0],[7.0,8.0]])\n",
    "c = torch.tensor([[9.0,10.0],[11.0,12.0]])\n",
    "print(a.shape)\n",
    "abc_cat = torch.cat([a,b,c],dim = 0)\n",
    "print(abc_cat.shape)\n",
    "print(abc_cat)\n"
   ]
  },
  {
   "cell_type": "markdown",
   "id": "778aca4a",
   "metadata": {},
   "source": [
    "```\n",
    "torch.Size([6, 2])\n",
    "tensor([[ 1.,  2.],\n",
    "        [ 3.,  4.],\n",
    "        [ 5.,  6.],\n",
    "        [ 7.,  8.],\n",
    "        [ 9., 10.],\n",
    "        [11., 12.]])\n",
    "```"
   ]
  },
  {
   "cell_type": "code",
   "execution_count": 61,
   "id": "2fcc896b",
   "metadata": {},
   "outputs": [
    {
     "name": "stdout",
     "output_type": "stream",
     "text": [
      "torch.Size([3, 2, 2])\n",
      "tensor([[[ 1.,  2.],\n",
      "         [ 3.,  4.]],\n",
      "\n",
      "        [[ 5.,  6.],\n",
      "         [ 7.,  8.]],\n",
      "\n",
      "        [[ 9., 10.],\n",
      "         [11., 12.]]])\n"
     ]
    }
   ],
   "source": [
    "abc_stack = torch.stack([a,b,c],axis = 0) #torch中dim和axis参数名可以混用\n",
    "print(abc_stack.shape)\n",
    "print(abc_stack)"
   ]
  },
  {
   "cell_type": "markdown",
   "id": "e1edb79d",
   "metadata": {},
   "source": [
    "```\n",
    "torch.Size([3, 2, 2])\n",
    "tensor([[[ 1.,  2.],\n",
    "         [ 3.,  4.]],\n",
    "\n",
    "        [[ 5.,  6.],\n",
    "         [ 7.,  8.]],\n",
    "\n",
    "        [[ 9., 10.],\n",
    "         [11., 12.]]])\n",
    "```"
   ]
  },
  {
   "cell_type": "code",
   "execution_count": 63,
   "id": "80a30560",
   "metadata": {},
   "outputs": [
    {
     "data": {
      "text/plain": [
       "tensor([[ 1.,  2.,  5.,  6.,  9., 10.],\n",
       "        [ 3.,  4.,  7.,  8., 11., 12.]])"
      ]
     },
     "execution_count": 63,
     "metadata": {},
     "output_type": "execute_result"
    }
   ],
   "source": [
    "torch.cat([a,b,c],axis = 1)"
   ]
  },
  {
   "cell_type": "markdown",
   "id": "996de3b6",
   "metadata": {},
   "source": [
    "```\n",
    "tensor([[ 1.,  2.,  5.,  6.,  9., 10.],\n",
    "        [ 3.,  4.,  7.,  8., 11., 12.]])\n",
    "```"
   ]
  },
  {
   "cell_type": "code",
   "execution_count": 64,
   "id": "90a462c0",
   "metadata": {},
   "outputs": [
    {
     "data": {
      "text/plain": [
       "tensor([[[ 1.,  2.],\n",
       "         [ 5.,  6.],\n",
       "         [ 9., 10.]],\n",
       "\n",
       "        [[ 3.,  4.],\n",
       "         [ 7.,  8.],\n",
       "         [11., 12.]]])"
      ]
     },
     "execution_count": 64,
     "metadata": {},
     "output_type": "execute_result"
    }
   ],
   "source": [
    "torch.stack([a,b,c],axis = 1)"
   ]
  },
  {
   "cell_type": "markdown",
   "id": "da0885d9",
   "metadata": {},
   "source": [
    "```\n",
    "tensor([[[ 1.,  2.],\n",
    "         [ 5.,  6.],\n",
    "         [ 9., 10.]],\n",
    "\n",
    "        [[ 3.,  4.],\n",
    "         [ 7.,  8.],\n",
    "         [11., 12.]]])\n",
    "```"
   ]
  },
  {
   "cell_type": "markdown",
   "id": "3026a298",
   "metadata": {},
   "source": [
    "torch.split是torch.cat的逆运算，可以指定分割份数平均分割，也可以通过指定每份的记录数量进行分割。"
   ]
  },
  {
   "cell_type": "code",
   "execution_count": null,
   "id": "1f2dca6d",
   "metadata": {},
   "outputs": [],
   "source": [
    "print(abc_cat)\n",
    "a,b,c = torch.split(abc_cat,split_size_or_sections = 2,dim = 0) #每份2个进行分割\n",
    "print(a)\n",
    "print(b)\n",
    "print(c)"
   ]
  },
  {
   "cell_type": "code",
   "execution_count": null,
   "id": "a570fbc3",
   "metadata": {},
   "outputs": [],
   "source": [
    "print(abc_cat)\n",
    "p,q,r = torch.split(abc_cat,split_size_or_sections =[4,1,1],dim = 0) #每份分别为[4,1,1]\n",
    "print(p)\n",
    "print(q)\n",
    "print(r)"
   ]
  },
  {
   "cell_type": "markdown",
   "id": "e44a4821",
   "metadata": {},
   "source": [
    "```\n",
    "tensor([[ 1.,  2.],\n",
    "        [ 3.,  4.],\n",
    "        [ 5.,  6.],\n",
    "        [ 7.,  8.],\n",
    "        [ 9., 10.],\n",
    "        [11., 12.]])\n",
    "tensor([[1., 2.],\n",
    "        [3., 4.],\n",
    "        [5., 6.],\n",
    "        [7., 8.]])\n",
    "tensor([[ 9., 10.]])\n",
    "tensor([[11., 12.]])\n",
    "```"
   ]
  },
  {
   "cell_type": "code",
   "execution_count": null,
   "id": "422b1643",
   "metadata": {},
   "outputs": [],
   "source": []
  },
  {
   "cell_type": "markdown",
   "id": "8f631c05",
   "metadata": {},
   "source": [
    "**如果本书对你有所帮助，想鼓励一下作者，记得给本项目加一颗星星star⭐️，并分享给你的朋友们喔😊!** \n",
    "\n",
    "如果对本书内容理解上有需要进一步和作者交流的地方，欢迎在公众号\"算法美食屋\"下留言。作者时间和精力有限，会酌情予以回复。\n",
    "\n",
    "也可以在公众号后台回复关键字：**加群**，加入读者交流群和大家讨论。\n",
    "\n",
    "![算法美食屋logo.png](./data/算法美食屋二维码.jpg)"
   ]
  }
 ],
 "metadata": {
  "jupytext": {
   "cell_metadata_filter": "-all",
   "formats": "ipynb,md",
   "main_language": "python"
  },
  "kernelspec": {
   "display_name": "Python 3",
   "language": "python",
   "name": "python3"
  },
  "language_info": {
   "codemirror_mode": {
    "name": "ipython",
    "version": 3
   },
   "file_extension": ".py",
   "mimetype": "text/x-python",
   "name": "python",
   "nbconvert_exporter": "python",
   "pygments_lexer": "ipython3",
   "version": "3.6.9"
  }
 },
 "nbformat": 4,
 "nbformat_minor": 5
}
